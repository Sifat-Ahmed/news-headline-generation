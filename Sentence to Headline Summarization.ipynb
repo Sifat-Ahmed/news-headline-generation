{
 "cells": [
  {
   "cell_type": "markdown",
   "metadata": {},
   "source": [
    "# Headline generation from one-sentence article summaries\n",
    "\n",
    "### Gabriel Strauss"
   ]
  },
  {
   "cell_type": "markdown",
   "metadata": {},
   "source": [
    "For this assignment, I built a sequence-to-sequence text summarization model and trained it to produce news article headlines from one-sentence article summaries. I added attention to the model using a provided Attention layer.\n",
    "\n",
    "### Contents:\n",
    "1. Input loading and pre-processing\n",
    "2. Implementation of Unidirectional LSTM encoder-decoder\n",
    "3. Implementation of Unidirectional LSTM encoder-decoder with Attention layer\n",
    "4. Analysis\n",
    "5. Proposed and implemented model improvements"
   ]
  },
  {
   "cell_type": "markdown",
   "metadata": {},
   "source": [
    "# Preparing Inputs"
   ]
  },
  {
   "cell_type": "code",
   "execution_count": 12,
   "metadata": {
    "scrolled": true
   },
   "outputs": [
    {
     "name": "stdout",
     "output_type": "stream",
     "text": [
      "importing numpy\n",
      "importing keras\n",
      "done\n"
     ]
    }
   ],
   "source": [
    "from collections import Counter\n",
    "print(\"importing numpy\")\n",
    "import numpy as np\n",
    "from os import listdir\n",
    "import random\n",
    "print(\"importing keras\")\n",
    "from keras.preprocessing.sequence import pad_sequences\n",
    "from keras.models import Sequential, Model, h5py, save_model, load_model\n",
    "from keras.layers import Embedding, Dense, Dropout, TimeDistributed, Activation, LSTM, RepeatVector\n",
    "#from keras.regularizers import l2\n",
    "from keras.callbacks import Callback, ModelCheckpoint, TensorBoard\n",
    "#from keras import initializers\n",
    "from keras import backend as K\n",
    "from keras.optimizers import SGD\n",
    "from keras.optimizers import Adadelta\n",
    "from keras.preprocessing import sequence\n",
    "from keras import optimizers\n",
    "\n",
    "from rouge import Rouge\n",
    "\n",
    "import attention_decoder\n",
    "\n",
    "import pickle\n",
    "\n",
    "print(\"done\")"
   ]
  },
  {
   "cell_type": "markdown",
   "metadata": {},
   "source": [
    "### data loading helper functions"
   ]
  },
  {
   "cell_type": "code",
   "execution_count": 13,
   "metadata": {
    "collapsed": true
   },
   "outputs": [],
   "source": [
    "#takes a .txt file name, returns list of lines.\n",
    "def file_to_lines(text_file):\n",
    "    lines = []\n",
    "    line = \"/\"\n",
    "    with open(text_file, 'r', encoding='utf-8') as f:\n",
    "        i = 0\n",
    "        while line != \"\":\n",
    "            line = f.readline()\n",
    "            if line != \"\":\n",
    "                #line = ' '.join(['<s>',line])\n",
    "                lines.append(line)\n",
    "    \n",
    "    return lines\n",
    "\n",
    "#takes a valid filepath\n",
    "#returns list of sentences tokenized with whitespace delimiter\n",
    "def lines_to_tokens(lines):\n",
    "    tokens = []\n",
    "    for line in lines:\n",
    "        tokens.extend(line.split())\n",
    "    \n",
    "    return tokens    \n",
    "\n",
    "#takes a list of tokenized sentences and max # of types, returns list of types (vocab)\n",
    "def create_idx2word(vocab_size, tokens):\n",
    "           \n",
    "    vocab = list(list(zip(*Counter(tokens).most_common(vocab_size + 1)))[0])\n",
    "    if '<unk>' in vocab:\n",
    "        vocab.remove('<unk>')\n",
    "    vocab.insert(0, 'ZERO')\n",
    "    vocab.append('UNK')\n",
    "    \n",
    "    return vocab\n",
    "\n",
    "#generate {token : idx} dict\n",
    "def create_word2idx(idx2word):\n",
    "    return {idx2word[i] : i for i in range(0, len(idx2word))}\n",
    "\n",
    "#replace words not in vocab with \"UNK,\" pad all idx sequences to max_len\n",
    "def transform_data(word2idx, lines, max_len):\n",
    "    \n",
    "    transformed_data = []\n",
    "    for line in lines:\n",
    "        line2idx = []\n",
    "        for tok in line.split():\n",
    "            #if word not in vocab append 'UNK' idx to idx sequence\n",
    "            try:\n",
    "                idx = word2idx[tok]\n",
    "                line2idx.append(idx)\n",
    "            except KeyError:\n",
    "                line2idx.append(VOCAB_SIZE + 1)\n",
    "        transformed_data.append(line2idx)\n",
    "        \n",
    "    transformed_data = pad_sequences(transformed_data, value=0, maxlen=max_len)\n",
    "    \n",
    "    return transformed_data\n",
    "\n",
    "#decodes idx sequence to string\n",
    "def decode_sequence(idx2word, sequence):\n",
    "    return \" \".join([idx2word[i] for i in sequence])"
   ]
  },
  {
   "cell_type": "markdown",
   "metadata": {},
   "source": [
    "### Function for loading and processing train data"
   ]
  },
  {
   "cell_type": "code",
   "execution_count": 14,
   "metadata": {
    "collapsed": true
   },
   "outputs": [],
   "source": [
    "def load_train_data(article, summary, max_len, vocab_size):\n",
    "    \n",
    "    #read in files, return array of lines as strings\n",
    "    article_lines = file_to_lines(article)\n",
    "    title_lines = file_to_lines(summary)\n",
    "\n",
    "    #article_lines = article_lines[:65]\n",
    "    #title_lines = title_lines[:65]\n",
    "    #tokenize each line, return single array of all tokens\n",
    "    article_toks = lines_to_tokens(article_lines)\n",
    "    title_toks = lines_to_tokens(title_lines)\n",
    "    \n",
    "    article_idx2word = create_idx2word(vocab_size, article_toks)\n",
    "    title_idx2word = create_idx2word(vocab_size, title_toks)\n",
    "\n",
    "    article_word2idx = create_word2idx(article_idx2word)\n",
    "    title_word2idx = create_word2idx(title_idx2word)\n",
    "    \n",
    "    article_data = transform_data(article_word2idx, article_lines, MAX_LEN)\n",
    "    title_data = transform_data(title_word2idx, title_lines, MAX_LEN)\n",
    "\n",
    "    return (article_data, len(article_idx2word), article_idx2word, article_word2idx,\\\n",
    "            title_data, len(title_idx2word), title_idx2word, title_word2idx)\n"
   ]
  },
  {
   "cell_type": "markdown",
   "metadata": {},
   "source": [
    "### Functions for loading and processing test data"
   ]
  },
  {
   "cell_type": "code",
   "execution_count": 15,
   "metadata": {
    "collapsed": true,
    "scrolled": true
   },
   "outputs": [],
   "source": [
    "def load_test_data_for_prediction(article_f, summary_f):\n",
    "    \n",
    "    print(\"Loading test data...\")\n",
    "    \n",
    "    #read in files, return array of lines as strings\n",
    "    article_lines = file_to_lines(article_f)\n",
    "    title_lines = file_to_lines(summary_f)\n",
    "    \n",
    "    article_lines = article_lines\n",
    "    title_lines = title_lines\n",
    "\n",
    "    for i in range(len(article_lines)):\n",
    "        article_lines[i] = article_lines[i].replace('<unk>', 'UNK')\n",
    "        title_lines[i] = title_lines[i].replace('<unk>', 'UNK')\n",
    "        \n",
    "    \n",
    "    article_data = transform_data(X_word2idx, article_lines, MAX_LEN)\n",
    "    #strip newline char\n",
    "    title_lines = [line.strip('\\n') for line in title_lines]\n",
    "\n",
    "    \n",
    "    return article_data, title_lines\n",
    "\n",
    "#given model and X_test, returns list of decoded predicted titles y_pred\n",
    "def predict_on_model(model, X_test):\n",
    "    \n",
    "    print(\"Predicting on X_test...\")\n",
    "    y_prob = model.predict(X_test)\n",
    "    print(\"Preparing data for Rouge scoring...\")\n",
    "\n",
    "    #process Y data for Rouge scoring by\n",
    "    #1. removing all 'ZERO' tokens\n",
    "    #2. replacing words not in train vocab with 'UNK'\n",
    "    \n",
    "    y_pred = []\n",
    "    \n",
    "    for sequence in y_prob:\n",
    "        sentence = []\n",
    "        for vec in sequence:\n",
    "            word = y_idx2word[np.argmax(vec)]\n",
    "            if word != 'ZERO':\n",
    "                if word in y_idx2word:\n",
    "                    sentence.append(word)\n",
    "                else:\n",
    "                    sentence.append(y_idx2word[-1]) #set to 'UNK'\n",
    "        y_pred.append(' '.join(sentence))\n",
    "    \n",
    "    return y_pred"
   ]
  },
  {
   "cell_type": "markdown",
   "metadata": {},
   "source": [
    "### Load train and test data"
   ]
  },
  {
   "cell_type": "code",
   "execution_count": 5,
   "metadata": {
    "scrolled": false
   },
   "outputs": [
    {
     "name": "stdout",
     "output_type": "stream",
     "text": [
      "Loading test data...\n",
      "data loaded and saved\n"
     ]
    }
   ],
   "source": [
    "MAX_LEN = 20\n",
    "VOCAB_SIZE = 20000\n",
    "\n",
    "article = 'data/train_article.txt'\n",
    "summary = 'data/train_title.txt'\n",
    "\n",
    "article_test = 'data/test_article.txt'\n",
    "title_test = 'data/test_title.txt'\n",
    "\n",
    "data = load_train_data(article, summary, MAX_LEN, VOCAB_SIZE)\n",
    "\n",
    "X_train = data[0]\n",
    "y_train = data[4]\n",
    "X_vocab_len, y_vocab_len = data[1], data[5]\n",
    "X_idx2word, y_idx2word = data[2], data[6]\n",
    "X_word2idx, y_word2idx = data[3], data[7]\n",
    "\n",
    "X_test, y_true = load_test_data_for_prediction(article_test, title_test)\n",
    "\n",
    "#DON'T OVERWRITE UNLESS RETRAINING MODEL\n",
    "with open(\"m1_vocab.pkl\", 'wb') as f:\n",
    "    pickle.dump([X_idx2word, y_idx2word, X_word2idx, y_word2idx], f)\n",
    "\n",
    "print(\"data loaded and saved\")"
   ]
  },
  {
   "cell_type": "markdown",
   "metadata": {},
   "source": [
    "# Unidirectional LSTM Encoder Decoder "
   ]
  },
  {
   "cell_type": "markdown",
   "metadata": {},
   "source": [
    "### Parameters for the LSTM encoder-decoder model "
   ]
  },
  {
   "cell_type": "code",
   "execution_count": 6,
   "metadata": {
    "collapsed": true
   },
   "outputs": [],
   "source": [
    "BATCH_SIZE = 500\n",
    "HIDDEN_DIM = 512\n",
    "EPOCHS = 150\n",
    "DROPOUT = 0.2\n",
    "RECURRENT_DROP=0.5"
   ]
  },
  {
   "cell_type": "markdown",
   "metadata": {},
   "source": [
    "### Model architecture"
   ]
  },
  {
   "cell_type": "code",
   "execution_count": 7,
   "metadata": {
    "collapsed": true
   },
   "outputs": [],
   "source": [
    "#CITATION: architecture based on https://chunml.github.io/ChunML.github.io/project/Sequence-To-Sequence/\n",
    "#added dropout, recurrent dropout, and modified as necessary to work with sparse_categorical_crossentropy loss func\n",
    "\n",
    "def create_UniLSTM(X_vocab_len, X_max_len, y_vocab_len, y_max_len, hidden_size, drop, recur_drop):\n",
    "    \n",
    "    model = Sequential()\n",
    "    model.add(Embedding(X_vocab_len, hidden_size, input_length=X_max_len, mask_zero=True))\n",
    "    model.add(LSTM(hidden_size, recurrent_dropout=recur_drop, dropout=drop))\n",
    "    model.add(RepeatVector(y_max_len))\n",
    "    model.add(LSTM(hidden_size, recurrent_dropout=recur_drop, return_sequences=True))\n",
    "    model.add(TimeDistributed(Dense(y_vocab_len)))\n",
    "    model.add(Activation('softmax'))\n",
    "    model.compile(loss='sparse_categorical_crossentropy',\n",
    "            optimizer='rmsprop',\n",
    "            metrics=['accuracy'])\n",
    "    \n",
    "    model.summary()\n",
    "    \n",
    "    return model"
   ]
  },
  {
   "cell_type": "markdown",
   "metadata": {},
   "source": [
    "### Build and train the Model"
   ]
  },
  {
   "cell_type": "code",
   "execution_count": 8,
   "metadata": {
    "collapsed": true
   },
   "outputs": [
    {
     "name": "stdout",
     "output_type": "stream",
     "text": [
      "Build model...\n",
      "_________________________________________________________________\n",
      "Layer (type)                 Output Shape              Param #   \n",
      "=================================================================\n",
      "embedding_1 (Embedding)      (None, 20, 512)           10241024  \n",
      "_________________________________________________________________\n",
      "lstm_1 (LSTM)                (None, 512)               2099200   \n",
      "_________________________________________________________________\n",
      "repeat_vector_1 (RepeatVecto (None, 20, 512)           0         \n",
      "_________________________________________________________________\n",
      "lstm_2 (LSTM)                (None, 20, 512)           2099200   \n",
      "_________________________________________________________________\n",
      "time_distributed_1 (TimeDist (None, 20, 20002)         10261026  \n",
      "_________________________________________________________________\n",
      "activation_1 (Activation)    (None, 20, 20002)         0         \n",
      "=================================================================\n",
      "Total params: 24,700,450\n",
      "Trainable params: 24,700,450\n",
      "Non-trainable params: 0\n",
      "_________________________________________________________________\n"
     ]
    }
   ],
   "source": [
    "print(\"Build model...\")\n",
    "\n",
    "model = create_UniLSTM(X_vocab_len, MAX_LEN, \n",
    "                       y_vocab_len, MAX_LEN,\n",
    "                       HIDDEN_DIM, DROPOUT, RECURRENT_DROP)"
   ]
  },
  {
   "cell_type": "code",
   "execution_count": 9,
   "metadata": {
    "collapsed": true
   },
   "outputs": [
    {
     "name": "stdout",
     "output_type": "stream",
     "text": [
      "Train...\n",
      "META-EPOCH 1/150\n",
      "Epoch 1/1\n",
      "50000/50000 [==============================] - 146s - loss: 3.7226 - acc: 0.6229   \n",
      "META-EPOCH 2/150\n",
      "Epoch 1/1\n",
      "50000/50000 [==============================] - 127s - loss: 3.3181 - acc: 0.6292   \n",
      "META-EPOCH 3/150\n",
      "Epoch 1/1\n",
      "50000/50000 [==============================] - 127s - loss: 3.2014 - acc: 0.6293   \n",
      "META-EPOCH 4/150\n",
      "Epoch 1/1\n",
      "50000/50000 [==============================] - 127s - loss: 3.1271 - acc: 0.6313   \n",
      "META-EPOCH 5/150\n",
      "Epoch 1/1\n",
      "50000/50000 [==============================] - 127s - loss: 3.0392 - acc: 0.6335   \n",
      "META-EPOCH 6/150\n",
      "Epoch 1/1\n",
      "50000/50000 [==============================] - 126s - loss: 2.9825 - acc: 0.6357   \n",
      "META-EPOCH 7/150\n",
      "Epoch 1/1\n",
      "50000/50000 [==============================] - 126s - loss: 2.9455 - acc: 0.6368   \n",
      "META-EPOCH 8/150\n",
      "Epoch 1/1\n",
      "50000/50000 [==============================] - 126s - loss: 2.9099 - acc: 0.6383   \n",
      "META-EPOCH 9/150\n",
      "Epoch 1/1\n",
      "50000/50000 [==============================] - 127s - loss: 2.8718 - acc: 0.6390   \n",
      "META-EPOCH 10/150\n",
      "Epoch 1/1\n",
      "50000/50000 [==============================] - 127s - loss: 2.8282 - acc: 0.6402   \n",
      "Predicting on X_test...\n",
      "Preparing data for Rouge scoring...\n",
      "ROUGE-2: 0.0011467754253454555\n",
      "Saved weights to weights/m1/rouge0-e9.h5\n",
      "META-EPOCH 11/150\n",
      "Epoch 1/1\n",
      "50000/50000 [==============================] - 127s - loss: 2.7829 - acc: 0.6413   \n",
      "META-EPOCH 12/150\n",
      "Epoch 1/1\n",
      "50000/50000 [==============================] - 126s - loss: 2.7361 - acc: 0.6427   \n",
      "META-EPOCH 13/150\n",
      "Epoch 1/1\n",
      "50000/50000 [==============================] - 126s - loss: 2.6901 - acc: 0.6441   \n",
      "META-EPOCH 14/150\n",
      "Epoch 1/1\n",
      "50000/50000 [==============================] - 125s - loss: 2.6460 - acc: 0.6457   \n",
      "META-EPOCH 15/150\n",
      "Epoch 1/1\n",
      "50000/50000 [==============================] - 126s - loss: 2.6035 - acc: 0.6470   \n",
      "META-EPOCH 16/150\n",
      "Epoch 1/1\n",
      "50000/50000 [==============================] - 126s - loss: 2.5548 - acc: 0.6486   \n",
      "META-EPOCH 17/150\n",
      "Epoch 1/1\n",
      "50000/50000 [==============================] - 126s - loss: 2.5145 - acc: 0.6497   \n",
      "META-EPOCH 18/150\n",
      "Epoch 1/1\n",
      "50000/50000 [==============================] - 126s - loss: 2.4774 - acc: 0.6512   \n",
      "META-EPOCH 19/150\n",
      "Epoch 1/1\n",
      "50000/50000 [==============================] - 126s - loss: 2.4418 - acc: 0.6522   \n",
      "META-EPOCH 20/150\n",
      "Epoch 1/1\n",
      "50000/50000 [==============================] - 126s - loss: 2.4016 - acc: 0.6533   \n",
      "Predicting on X_test...\n",
      "Preparing data for Rouge scoring...\n",
      "ROUGE-2: 0.007907351648667236\n",
      "Saved weights to weights/m1/rouge0-e19.h5\n",
      "META-EPOCH 21/150\n",
      "Epoch 1/1\n",
      "50000/50000 [==============================] - 127s - loss: 2.3592 - acc: 0.6547   \n",
      "META-EPOCH 22/150\n",
      "Epoch 1/1\n",
      "50000/50000 [==============================] - 127s - loss: 2.3222 - acc: 0.6558   \n",
      "META-EPOCH 23/150\n",
      "Epoch 1/1\n",
      "50000/50000 [==============================] - 126s - loss: 2.2889 - acc: 0.6571   \n",
      "META-EPOCH 24/150\n",
      "Epoch 1/1\n",
      "50000/50000 [==============================] - 126s - loss: 2.2548 - acc: 0.6582   \n",
      "META-EPOCH 25/150\n",
      "Epoch 1/1\n",
      "50000/50000 [==============================] - 126s - loss: 2.2212 - acc: 0.6591   \n",
      "META-EPOCH 26/150\n",
      "Epoch 1/1\n",
      "50000/50000 [==============================] - 127s - loss: 2.1890 - acc: 0.6603   \n",
      "META-EPOCH 27/150\n",
      "Epoch 1/1\n",
      "50000/50000 [==============================] - 126s - loss: 2.1554 - acc: 0.6616   \n",
      "META-EPOCH 28/150\n",
      "Epoch 1/1\n",
      "50000/50000 [==============================] - 127s - loss: 2.1222 - acc: 0.6625   \n",
      "META-EPOCH 29/150\n",
      "Epoch 1/1\n",
      "50000/50000 [==============================] - 126s - loss: 2.0892 - acc: 0.6638   \n",
      "META-EPOCH 30/150\n",
      "Epoch 1/1\n",
      "50000/50000 [==============================] - 126s - loss: 2.0573 - acc: 0.6649   \n",
      "Predicting on X_test...\n",
      "Preparing data for Rouge scoring...\n",
      "ROUGE-2: 0.010801935582788233\n",
      "Saved weights to weights/m1/rouge1-e29.h5\n",
      "META-EPOCH 31/150\n",
      "Epoch 1/1\n",
      "50000/50000 [==============================] - 127s - loss: 2.0259 - acc: 0.6660   \n",
      "META-EPOCH 32/150\n",
      "Epoch 1/1\n",
      "50000/50000 [==============================] - 126s - loss: 1.9958 - acc: 0.6673   \n",
      "META-EPOCH 33/150\n",
      "Epoch 1/1\n",
      "50000/50000 [==============================] - 126s - loss: 1.9669 - acc: 0.6686   \n",
      "META-EPOCH 34/150\n",
      "Epoch 1/1\n",
      "50000/50000 [==============================] - 126s - loss: 1.9355 - acc: 0.6699   \n",
      "META-EPOCH 35/150\n",
      "Epoch 1/1\n",
      "50000/50000 [==============================] - 126s - loss: 1.9053 - acc: 0.6713   \n",
      "META-EPOCH 36/150\n",
      "Epoch 1/1\n",
      "50000/50000 [==============================] - 126s - loss: 1.8765 - acc: 0.6729   \n",
      "META-EPOCH 37/150\n",
      "Epoch 1/1\n",
      "50000/50000 [==============================] - 126s - loss: 1.8479 - acc: 0.6744   \n",
      "META-EPOCH 38/150\n",
      "Epoch 1/1\n",
      "50000/50000 [==============================] - 126s - loss: 1.8206 - acc: 0.6759   \n",
      "META-EPOCH 39/150\n",
      "Epoch 1/1\n",
      "50000/50000 [==============================] - 126s - loss: 1.7933 - acc: 0.6780   \n",
      "META-EPOCH 40/150\n",
      "Epoch 1/1\n",
      "50000/50000 [==============================] - 126s - loss: 1.7667 - acc: 0.6795   \n",
      "Predicting on X_test...\n",
      "Preparing data for Rouge scoring...\n",
      "ROUGE-2: 0.014192295971424566\n",
      "Saved weights to weights/m1/rouge1-e39.h5\n",
      "META-EPOCH 41/150\n",
      "Epoch 1/1\n",
      "50000/50000 [==============================] - 126s - loss: 1.7413 - acc: 0.6813   \n",
      "META-EPOCH 42/150\n",
      "Epoch 1/1\n",
      "50000/50000 [==============================] - 126s - loss: 1.7145 - acc: 0.6832   \n",
      "META-EPOCH 43/150\n",
      "Epoch 1/1\n",
      "50000/50000 [==============================] - 125s - loss: 1.6900 - acc: 0.6850   \n",
      "META-EPOCH 44/150\n",
      "Epoch 1/1\n",
      "50000/50000 [==============================] - 125s - loss: 1.6652 - acc: 0.6872   \n",
      "META-EPOCH 45/150\n",
      "Epoch 1/1\n",
      "50000/50000 [==============================] - 125s - loss: 1.6416 - acc: 0.6893   \n",
      "META-EPOCH 46/150\n",
      "Epoch 1/1\n",
      "50000/50000 [==============================] - 126s - loss: 1.6172 - acc: 0.6916   \n",
      "META-EPOCH 47/150\n",
      "Epoch 1/1\n",
      "50000/50000 [==============================] - 126s - loss: 1.5950 - acc: 0.6933   \n",
      "META-EPOCH 48/150\n",
      "Epoch 1/1\n",
      "50000/50000 [==============================] - 126s - loss: 1.5713 - acc: 0.6954   \n",
      "META-EPOCH 49/150\n",
      "Epoch 1/1\n",
      "50000/50000 [==============================] - 126s - loss: 1.5513 - acc: 0.6970   \n",
      "META-EPOCH 50/150\n",
      "Epoch 1/1\n",
      "50000/50000 [==============================] - 126s - loss: 1.5294 - acc: 0.6994   \n",
      "Predicting on X_test...\n",
      "Preparing data for Rouge scoring...\n",
      "ROUGE-2: 0.014069123600102266\n",
      "Saved weights to weights/m1/rouge1-e49.h5\n",
      "META-EPOCH 51/150\n",
      "Epoch 1/1\n",
      "50000/50000 [==============================] - 126s - loss: 1.5088 - acc: 0.7018   \n",
      "META-EPOCH 52/150\n",
      "Epoch 1/1\n",
      "50000/50000 [==============================] - 126s - loss: 1.4881 - acc: 0.7037   \n",
      "META-EPOCH 53/150\n",
      "Epoch 1/1\n",
      "50000/50000 [==============================] - 126s - loss: 1.4671 - acc: 0.7057   \n",
      "META-EPOCH 54/150\n",
      "Epoch 1/1\n",
      "50000/50000 [==============================] - 126s - loss: 1.4483 - acc: 0.7075   \n",
      "META-EPOCH 55/150\n",
      "Epoch 1/1\n",
      "50000/50000 [==============================] - 126s - loss: 1.4291 - acc: 0.7094   \n",
      "META-EPOCH 56/150\n",
      "Epoch 1/1\n",
      "50000/50000 [==============================] - 126s - loss: 1.4099 - acc: 0.7114   \n",
      "META-EPOCH 57/150\n",
      "Epoch 1/1\n",
      "50000/50000 [==============================] - 126s - loss: 1.3908 - acc: 0.7135   \n",
      "META-EPOCH 58/150\n",
      "Epoch 1/1\n",
      "50000/50000 [==============================] - 126s - loss: 1.3732 - acc: 0.7154   \n",
      "META-EPOCH 59/150\n",
      "Epoch 1/1\n",
      "50000/50000 [==============================] - 126s - loss: 1.3543 - acc: 0.7176   \n",
      "META-EPOCH 60/150\n",
      "Epoch 1/1\n",
      "50000/50000 [==============================] - 126s - loss: 1.3373 - acc: 0.7195   \n",
      "Predicting on X_test...\n",
      "Preparing data for Rouge scoring...\n",
      "ROUGE-2: 0.01471861798972954\n",
      "Saved weights to weights/m1/rouge1-e59.h5\n",
      "META-EPOCH 61/150\n",
      "Epoch 1/1\n",
      "50000/50000 [==============================] - 126s - loss: 1.3186 - acc: 0.7214   \n",
      "META-EPOCH 62/150\n",
      "Epoch 1/1\n",
      "50000/50000 [==============================] - 126s - loss: 1.3039 - acc: 0.7232   \n",
      "META-EPOCH 63/150\n",
      "Epoch 1/1\n",
      "50000/50000 [==============================] - 126s - loss: 1.2856 - acc: 0.7256   \n",
      "META-EPOCH 64/150\n",
      "Epoch 1/1\n",
      "50000/50000 [==============================] - 126s - loss: 1.2702 - acc: 0.7267   \n",
      "META-EPOCH 65/150\n",
      "Epoch 1/1\n",
      "50000/50000 [==============================] - 126s - loss: 1.2536 - acc: 0.7289   \n",
      "META-EPOCH 66/150\n",
      "Epoch 1/1\n",
      "50000/50000 [==============================] - 126s - loss: 1.2397 - acc: 0.7310   \n",
      "META-EPOCH 67/150\n",
      "Epoch 1/1\n"
     ]
    },
    {
     "name": "stdout",
     "output_type": "stream",
     "text": [
      "50000/50000 [==============================] - 126s - loss: 1.2225 - acc: 0.7332   \n",
      "META-EPOCH 68/150\n",
      "Epoch 1/1\n",
      "50000/50000 [==============================] - 127s - loss: 1.2080 - acc: 0.7348   \n",
      "META-EPOCH 69/150\n",
      "Epoch 1/1\n",
      "50000/50000 [==============================] - 126s - loss: 1.1915 - acc: 0.7370   \n",
      "META-EPOCH 70/150\n",
      "Epoch 1/1\n",
      "50000/50000 [==============================] - 127s - loss: 1.1773 - acc: 0.7385   \n",
      "Predicting on X_test...\n",
      "Preparing data for Rouge scoring...\n",
      "ROUGE-2: 0.014648702152854163\n",
      "Saved weights to weights/m1/rouge1-e69.h5\n",
      "META-EPOCH 71/150\n",
      "Epoch 1/1\n",
      "50000/50000 [==============================] - 127s - loss: 1.1629 - acc: 0.7403   \n",
      "META-EPOCH 72/150\n",
      "Epoch 1/1\n",
      "50000/50000 [==============================] - 127s - loss: 1.1470 - acc: 0.7422   \n",
      "META-EPOCH 73/150\n",
      "Epoch 1/1\n",
      "50000/50000 [==============================] - 126s - loss: 1.1336 - acc: 0.7443   \n",
      "META-EPOCH 74/150\n",
      "Epoch 1/1\n",
      "50000/50000 [==============================] - 126s - loss: 1.1202 - acc: 0.7456   \n",
      "META-EPOCH 75/150\n",
      "Epoch 1/1\n",
      "50000/50000 [==============================] - 125s - loss: 1.1042 - acc: 0.7486   \n",
      "META-EPOCH 76/150\n",
      "Epoch 1/1\n",
      "50000/50000 [==============================] - 125s - loss: 1.0918 - acc: 0.7497   \n",
      "META-EPOCH 77/150\n",
      "Epoch 1/1\n",
      "50000/50000 [==============================] - 125s - loss: 1.0784 - acc: 0.7514   \n",
      "META-EPOCH 78/150\n",
      "Epoch 1/1\n",
      "50000/50000 [==============================] - 125s - loss: 1.0660 - acc: 0.7531   \n",
      "META-EPOCH 79/150\n",
      "Epoch 1/1\n",
      "50000/50000 [==============================] - 125s - loss: 1.0528 - acc: 0.7553   \n",
      "META-EPOCH 80/150\n",
      "Epoch 1/1\n",
      "50000/50000 [==============================] - 125s - loss: 1.0387 - acc: 0.7576   \n",
      "Predicting on X_test...\n",
      "Preparing data for Rouge scoring...\n",
      "ROUGE-2: 0.016510049967280546\n",
      "Saved weights to weights/m1/rouge1-e79.h5\n",
      "META-EPOCH 81/150\n",
      "Epoch 1/1\n",
      "50000/50000 [==============================] - 125s - loss: 1.0260 - acc: 0.7589   \n",
      "META-EPOCH 82/150\n",
      "Epoch 1/1\n",
      "50000/50000 [==============================] - 125s - loss: 1.0153 - acc: 0.7602   \n",
      "META-EPOCH 83/150\n",
      "Epoch 1/1\n",
      "50000/50000 [==============================] - 125s - loss: 1.0031 - acc: 0.7619   \n",
      "META-EPOCH 84/150\n",
      "Epoch 1/1\n",
      "50000/50000 [==============================] - 125s - loss: 0.9911 - acc: 0.7640   \n",
      "META-EPOCH 85/150\n",
      "Epoch 1/1\n",
      "50000/50000 [==============================] - 125s - loss: 0.9785 - acc: 0.7657   \n",
      "META-EPOCH 86/150\n",
      "Epoch 1/1\n",
      "50000/50000 [==============================] - 125s - loss: 0.9674 - acc: 0.7670   \n",
      "META-EPOCH 87/150\n",
      "Epoch 1/1\n",
      "50000/50000 [==============================] - 125s - loss: 0.9567 - acc: 0.7687   \n",
      "META-EPOCH 88/150\n",
      "Epoch 1/1\n",
      "50000/50000 [==============================] - 125s - loss: 0.9459 - acc: 0.7703   \n",
      "META-EPOCH 89/150\n",
      "Epoch 1/1\n",
      "50000/50000 [==============================] - 125s - loss: 0.9333 - acc: 0.7725   \n",
      "META-EPOCH 90/150\n",
      "Epoch 1/1\n",
      "50000/50000 [==============================] - 125s - loss: 0.9222 - acc: 0.7741   \n",
      "Predicting on X_test...\n",
      "Preparing data for Rouge scoring...\n",
      "ROUGE-2: 0.021014708085173507\n",
      "Saved weights to weights/m1/rouge2-e89.h5\n",
      "META-EPOCH 91/150\n",
      "Epoch 1/1\n",
      "50000/50000 [==============================] - 125s - loss: 0.9117 - acc: 0.7756   \n",
      "META-EPOCH 92/150\n",
      "Epoch 1/1\n",
      "50000/50000 [==============================] - 125s - loss: 0.9000 - acc: 0.7774   \n",
      "META-EPOCH 93/150\n",
      "Epoch 1/1\n",
      "50000/50000 [==============================] - 125s - loss: 0.8911 - acc: 0.7790   \n",
      "META-EPOCH 94/150\n",
      "Epoch 1/1\n",
      "50000/50000 [==============================] - 125s - loss: 0.8798 - acc: 0.7807   \n",
      "META-EPOCH 95/150\n",
      "Epoch 1/1\n",
      "50000/50000 [==============================] - 125s - loss: 0.8689 - acc: 0.7826   \n",
      "META-EPOCH 96/150\n",
      "Epoch 1/1\n",
      "50000/50000 [==============================] - 125s - loss: 0.8599 - acc: 0.7841   \n",
      "META-EPOCH 97/150\n",
      "Epoch 1/1\n",
      "50000/50000 [==============================] - 125s - loss: 0.8509 - acc: 0.7853   \n",
      "META-EPOCH 98/150\n",
      "Epoch 1/1\n",
      "50000/50000 [==============================] - 125s - loss: 0.8400 - acc: 0.7871   \n",
      "META-EPOCH 99/150\n",
      "Epoch 1/1\n",
      "50000/50000 [==============================] - 125s - loss: 0.8307 - acc: 0.7886   \n",
      "META-EPOCH 100/150\n",
      "Epoch 1/1\n",
      "50000/50000 [==============================] - 125s - loss: 0.8206 - acc: 0.7909   \n",
      "Predicting on X_test...\n",
      "Preparing data for Rouge scoring...\n",
      "ROUGE-2: 0.019812065080741154\n",
      "Saved weights to weights/m1/rouge1-e99.h5\n",
      "META-EPOCH 101/150\n",
      "Epoch 1/1\n",
      "50000/50000 [==============================] - 125s - loss: 0.8131 - acc: 0.7917   \n",
      "META-EPOCH 102/150\n",
      "Epoch 1/1\n",
      "50000/50000 [==============================] - 125s - loss: 0.8020 - acc: 0.7936   \n",
      "META-EPOCH 103/150\n",
      "Epoch 1/1\n",
      "50000/50000 [==============================] - 126s - loss: 0.7939 - acc: 0.7952   \n",
      "META-EPOCH 104/150\n",
      "Epoch 1/1\n",
      "50000/50000 [==============================] - 125s - loss: 0.7854 - acc: 0.7965   \n",
      "META-EPOCH 105/150\n",
      "Epoch 1/1\n",
      "50000/50000 [==============================] - 125s - loss: 0.7759 - acc: 0.7981   \n",
      "META-EPOCH 106/150\n",
      "Epoch 1/1\n",
      "50000/50000 [==============================] - 125s - loss: 0.7662 - acc: 0.8000   \n",
      "META-EPOCH 107/150\n",
      "Epoch 1/1\n",
      "50000/50000 [==============================] - 125s - loss: 0.7599 - acc: 0.8010   \n",
      "META-EPOCH 108/150\n",
      "Epoch 1/1\n",
      "50000/50000 [==============================] - 125s - loss: 0.7514 - acc: 0.8025   \n",
      "META-EPOCH 109/150\n",
      "Epoch 1/1\n",
      "50000/50000 [==============================] - 127s - loss: 0.7418 - acc: 0.8047   \n",
      "META-EPOCH 110/150\n",
      "Epoch 1/1\n",
      "50000/50000 [==============================] - 127s - loss: 0.7347 - acc: 0.8059   \n",
      "Predicting on X_test...\n",
      "Preparing data for Rouge scoring...\n",
      "ROUGE-2: 0.018130784863305514\n",
      "Saved weights to weights/m1/rouge1-e109.h5\n",
      "META-EPOCH 111/150\n",
      "Epoch 1/1\n",
      "50000/50000 [==============================] - 127s - loss: 0.7272 - acc: 0.8064   \n",
      "META-EPOCH 112/150\n",
      "Epoch 1/1\n",
      "50000/50000 [==============================] - 127s - loss: 0.7189 - acc: 0.8086   \n",
      "META-EPOCH 113/150\n",
      "Epoch 1/1\n",
      "50000/50000 [==============================] - 126s - loss: 0.7112 - acc: 0.8101   \n",
      "META-EPOCH 114/150\n",
      "Epoch 1/1\n",
      "50000/50000 [==============================] - 126s - loss: 0.7026 - acc: 0.8114   \n",
      "META-EPOCH 115/150\n",
      "Epoch 1/1\n",
      "50000/50000 [==============================] - 126s - loss: 0.6971 - acc: 0.8125   \n",
      "META-EPOCH 116/150\n",
      "Epoch 1/1\n",
      "50000/50000 [==============================] - 126s - loss: 0.6879 - acc: 0.8143   \n",
      "META-EPOCH 117/150\n",
      "Epoch 1/1\n",
      "50000/50000 [==============================] - 126s - loss: 0.6806 - acc: 0.8160   \n",
      "META-EPOCH 118/150\n",
      "Epoch 1/1\n",
      "50000/50000 [==============================] - 126s - loss: 0.6741 - acc: 0.8167   \n",
      "META-EPOCH 119/150\n",
      "Epoch 1/1\n",
      "50000/50000 [==============================] - 126s - loss: 0.6675 - acc: 0.8185   \n",
      "META-EPOCH 120/150\n",
      "Epoch 1/1\n",
      "50000/50000 [==============================] - 126s - loss: 0.6595 - acc: 0.8199   \n",
      "Predicting on X_test...\n",
      "Preparing data for Rouge scoring...\n",
      "ROUGE-2: 0.01906159508527638\n",
      "Saved weights to weights/m1/rouge1-e119.h5\n",
      "META-EPOCH 121/150\n",
      "Epoch 1/1\n",
      "50000/50000 [==============================] - 126s - loss: 0.6516 - acc: 0.8215   \n",
      "META-EPOCH 122/150\n",
      "Epoch 1/1\n",
      "50000/50000 [==============================] - 126s - loss: 0.6454 - acc: 0.8226   \n",
      "META-EPOCH 123/150\n",
      "Epoch 1/1\n",
      "50000/50000 [==============================] - 125s - loss: 0.6405 - acc: 0.8234   \n",
      "META-EPOCH 124/150\n",
      "Epoch 1/1\n",
      "50000/50000 [==============================] - 125s - loss: 0.6330 - acc: 0.8255   \n",
      "META-EPOCH 125/150\n",
      "Epoch 1/1\n",
      "50000/50000 [==============================] - 125s - loss: 0.6272 - acc: 0.8260   \n",
      "META-EPOCH 126/150\n",
      "Epoch 1/1\n",
      "50000/50000 [==============================] - 125s - loss: 0.6193 - acc: 0.8275   \n",
      "META-EPOCH 127/150\n",
      "Epoch 1/1\n",
      "50000/50000 [==============================] - 125s - loss: 0.6140 - acc: 0.8288   \n",
      "META-EPOCH 128/150\n",
      "Epoch 1/1\n",
      "50000/50000 [==============================] - 125s - loss: 0.6075 - acc: 0.8302   \n",
      "META-EPOCH 129/150\n",
      "Epoch 1/1\n",
      "50000/50000 [==============================] - 125s - loss: 0.6018 - acc: 0.8318   \n",
      "META-EPOCH 130/150\n",
      "Epoch 1/1\n",
      "50000/50000 [==============================] - 125s - loss: 0.5964 - acc: 0.8331   \n",
      "Predicting on X_test...\n",
      "Preparing data for Rouge scoring...\n",
      "ROUGE-2: 0.018826429951817974\n",
      "Saved weights to weights/m1/rouge1-e129.h5\n",
      "META-EPOCH 131/150\n",
      "Epoch 1/1\n",
      "50000/50000 [==============================] - 125s - loss: 0.5892 - acc: 0.8341   \n",
      "META-EPOCH 132/150\n",
      "Epoch 1/1\n",
      "50000/50000 [==============================] - 125s - loss: 0.5844 - acc: 0.8354   \n",
      "META-EPOCH 133/150\n",
      "Epoch 1/1\n",
      "50000/50000 [==============================] - 125s - loss: 0.5768 - acc: 0.8366   \n",
      "META-EPOCH 134/150\n",
      "Epoch 1/1\n",
      "50000/50000 [==============================] - 125s - loss: 0.5720 - acc: 0.8381   \n",
      "META-EPOCH 135/150\n",
      "Epoch 1/1\n",
      "50000/50000 [==============================] - 125s - loss: 0.5666 - acc: 0.8391   \n",
      "META-EPOCH 136/150\n",
      "Epoch 1/1\n",
      "50000/50000 [==============================] - 125s - loss: 0.5620 - acc: 0.8398   \n",
      "META-EPOCH 137/150\n",
      "Epoch 1/1\n",
      "50000/50000 [==============================] - 125s - loss: 0.5546 - acc: 0.8421   \n",
      "META-EPOCH 138/150\n",
      "Epoch 1/1\n",
      "50000/50000 [==============================] - 125s - loss: 0.5493 - acc: 0.8429   \n",
      "META-EPOCH 139/150\n",
      "Epoch 1/1\n",
      "50000/50000 [==============================] - 125s - loss: 0.5464 - acc: 0.8435   \n",
      "META-EPOCH 140/150\n",
      "Epoch 1/1\n",
      "50000/50000 [==============================] - 125s - loss: 0.5394 - acc: 0.8453   \n",
      "Predicting on X_test...\n",
      "Preparing data for Rouge scoring...\n",
      "ROUGE-2: 0.01665737978578601\n",
      "Saved weights to weights/m1/rouge1-e139.h5\n",
      "META-EPOCH 141/150\n",
      "Epoch 1/1\n",
      "50000/50000 [==============================] - 125s - loss: 0.5353 - acc: 0.8460   \n",
      "META-EPOCH 142/150\n",
      "Epoch 1/1\n",
      "50000/50000 [==============================] - 125s - loss: 0.5303 - acc: 0.8472   \n",
      "META-EPOCH 143/150\n",
      "Epoch 1/1\n",
      "50000/50000 [==============================] - 125s - loss: 0.5244 - acc: 0.8485   \n",
      "META-EPOCH 144/150\n",
      "Epoch 1/1\n",
      "50000/50000 [==============================] - 125s - loss: 0.5189 - acc: 0.8497   \n",
      "META-EPOCH 145/150\n",
      "Epoch 1/1\n",
      "50000/50000 [==============================] - 125s - loss: 0.5144 - acc: 0.8512   \n",
      "META-EPOCH 146/150\n",
      "Epoch 1/1\n",
      "50000/50000 [==============================] - 125s - loss: 0.5108 - acc: 0.8517   \n",
      "META-EPOCH 147/150\n",
      "Epoch 1/1\n",
      "50000/50000 [==============================] - 125s - loss: 0.5049 - acc: 0.8529   \n",
      "META-EPOCH 148/150\n",
      "Epoch 1/1\n",
      "50000/50000 [==============================] - 125s - loss: 0.5007 - acc: 0.8540   \n",
      "META-EPOCH 149/150\n",
      "Epoch 1/1\n",
      "50000/50000 [==============================] - 125s - loss: 0.4954 - acc: 0.8555   \n",
      "META-EPOCH 150/150\n",
      "Epoch 1/1\n",
      "50000/50000 [==============================] - 125s - loss: 0.4922 - acc: 0.8564   \n",
      "Predicting on X_test...\n",
      "Preparing data for Rouge scoring...\n",
      "ROUGE-2: 0.018880536442383508\n",
      "Saved weights to weights/m1/rouge1-e149.h5\n",
      "a fitting end\n"
     ]
    }
   ],
   "source": [
    "print('Train...')\n",
    "\n",
    "for i in range(EPOCHS):\n",
    "    print(\"META-EPOCH {}/{}\".format(i+1, EPOCHS))\n",
    "    model.fit(X_train, np.expand_dims(y_train, axis=-1), \n",
    "               epochs=1, batch_size=BATCH_SIZE)\n",
    "    \n",
    "    #assess rouge scores every 10 epochs, save if new max\n",
    "    if (i+1)%10 == 0:\n",
    "        \n",
    "        y_pred = predict_on_model(model, X_test[0:1000])\n",
    "        scores = Rouge().get_scores(hyps=y_pred, refs=y_true[0:1000], avg=True)\n",
    "        \n",
    "        #meant to include line below before running (see note above cell)\n",
    "        print(\"ROUGE-2: {}\".format(scores['rouge-2']['f']))\n",
    "        weight_f = \"weights/m1/rouge{}-e{}.h5\".format(int(scores['rouge-2']['f'] * 100), i)\n",
    "        model.save_weights(weight_f)\n",
    "        print(\"Saved weights to {}\".format(weight_f))\n",
    "                  \n",
    "print(\"a fitting end\")"
   ]
  },
  {
   "cell_type": "markdown",
   "metadata": {},
   "source": [
    "# Evaluation using Rouge score "
   ]
  },
  {
   "cell_type": "markdown",
   "metadata": {},
   "source": [
    "## Best model  \n",
    "\n",
    "The output above is from my best model. I trained for 200 epochs first, then for 150. I achieved higher results with my model that only trained for 150.\n",
    "\n",
    "### Parameters\n",
    "\n",
    "BATCH_SIZE = 500  \n",
    "NUM_LAYERS = 1  \n",
    "HIDDEN_DIM = 512  \n",
    "EPOCHS = 150  \n",
    "DROPOUT = 0.2 (ONLY IN INPUT LSTM)  \n",
    "RECURRENT_DROPOUT = 0.5 (IN BOTH LSTMS)  \n",
    "MAX_LEN = 20 (for both input and output)\n",
    "VOCAB_SIZE = 20000 \n",
    "LOSS FUNCTION: sparse_categorical_crossentropy\n",
    "\n",
    "### Results\n",
    "\n",
    "Also summarized more cleanly below, in the analysis section\n",
    "\n",
    "Rouge 1: {'p': 0.22011826427540712, 'r': 0.15925309494467163, 'f': 0.17797990767379282}  \n",
    "Rouge 2: {'p': 0.0617637136672851, 'r': 0.059078128419199842, 'f': 0.05951144373271984}  \n",
    "Rouge l: {'p': 0.15801677905427908, 'r': 0.15411964105336168, 'f': 0.14826568669338705}  \n",
    "\n",
    "###  run cell below to confirm results\n",
    "(takes around 1-3 min to build model, load weights, run predict, calculate rouge)"
   ]
  },
  {
   "cell_type": "code",
   "execution_count": 10,
   "metadata": {
    "collapsed": true
   },
   "outputs": [
    {
     "name": "stdout",
     "output_type": "stream",
     "text": [
      "Predicting on X_test...\n",
      "Preparing data for Rouge scoring...\n",
      "Rouge 1: {'r': 0.15788385525538889, 'f': 0.17884880141042794, 'p': 0.22624065141207997}\n",
      "Rouge 2: {'r': 0.059027805527805524, 'f': 0.060137788702927825, 'p': 0.063325200989486699}\n",
      "Rouge l: {'r': 0.15283525288903441, 'f': 0.14900280045450692, 'p': 0.16150733450722946}\n"
     ]
    }
   ],
   "source": [
    "\n",
    "print(\"Build model...\")\n",
    "model = create_UniLSTM(X_vocab_len, MAX_LEN, \n",
    "                    y_vocab_len, MAX_LEN,\n",
    "                    HIDDEN_DIM, NUM_LAYERS, DROPOUT, RECURRENT_DROP)\n",
    "model.load_weights(\"weights/m1/rouge2-e149.h5\")\n",
    "\n",
    "\n",
    "MAX_LEN = 20\n",
    "VOCAB_SIZE = 20000\n",
    "\n",
    "article_test = 'data/test_article.txt'\n",
    "title_test = 'data/test_title.txt'\n",
    "\n",
    "data = load_train_data(article, summary, MAX_LEN, VOCAB_SIZE)\n",
    "\n",
    "X_train = data[0]\n",
    "y_train = data[4]\n",
    "X_vocab_len, y_vocab_len = data[1], data[5]\n",
    "#ignore data[2], data[3], data[6], data[7]. Instead, load idx2word and word2idx with code block below\n",
    "\n",
    "#FIX to Counter most_common indeterminacy problem:\n",
    "#reload idx2word and word2idx generated at time of training\n",
    "with open(\"m1_vocab.pkl\", \"rb\") as f:\n",
    "    X_idx2word, y_idx2word, X_word2idx, y_word2idx = pickle.load(f)\n",
    "\n",
    "X_test, y_true = load_test_data_for_prediction(article_test, title_test)\n",
    "\n",
    "print(\"data loaded\")\n",
    "\n",
    "y_pred = predict_on_model(model, X_test)\n",
    "scores = Rouge().get_scores(hyps=y_pred, refs=y_true, avg=True)\n",
    "print(\"Rouge 1: {}\".format(scores['rouge-1']))\n",
    "print(\"Rouge 2: {}\".format(scores['rouge-2']))\n",
    "print(\"Rouge l: {}\".format(scores['rouge-l']))"
   ]
  },
  {
   "cell_type": "markdown",
   "metadata": {},
   "source": [
    "# Tensorboard Visualization "
   ]
  },
  {
   "cell_type": "markdown",
   "metadata": {},
   "source": [
    "Run model with tensorboard output on less data for shorter number of epochs, to confirm learning"
   ]
  },
  {
   "cell_type": "markdown",
   "metadata": {},
   "source": [
    "### Make a new copy of model before running for visualization"
   ]
  },
  {
   "cell_type": "code",
   "execution_count": 24,
   "metadata": {
    "collapsed": true
   },
   "outputs": [
    {
     "name": "stdout",
     "output_type": "stream",
     "text": [
      "Epoch 1/10\n",
      "200/200 [==============================] - 69s - loss: 3.6004 - acc: 0.6242    \n",
      "Epoch 2/10\n",
      "200/200 [==============================] - 69s - loss: 3.2433 - acc: 0.6341    \n",
      "Epoch 3/10\n",
      "200/200 [==============================] - 69s - loss: 3.2393 - acc: 0.6283    \n",
      "Epoch 4/10\n",
      "200/200 [==============================] - 69s - loss: 3.1414 - acc: 0.6328    \n",
      "Epoch 5/10\n",
      "200/200 [==============================] - 69s - loss: 2.9995 - acc: 0.6370    \n",
      "Epoch 6/10\n",
      "200/200 [==============================] - 68s - loss: 3.0279 - acc: 0.6334    \n",
      "Epoch 7/10\n",
      "200/200 [==============================] - 68s - loss: 2.9159 - acc: 0.6405    \n",
      "Epoch 8/10\n",
      "200/200 [==============================] - 68s - loss: 2.9555 - acc: 0.6349    \n",
      "Epoch 9/10\n",
      "200/200 [==============================] - 69s - loss: 2.9272 - acc: 0.6372    \n",
      "Epoch 10/10\n",
      "200/200 [==============================] - 69s - loss: 2.8395 - acc: 0.6405    \n"
     ]
    },
    {
     "data": {
      "text/plain": [
       "<keras.callbacks.History at 0x7f30553c0e10>"
      ]
     },
     "execution_count": 24,
     "metadata": {},
     "output_type": "execute_result"
    }
   ],
   "source": [
    "tboard_model = create_UniLSTM(X_vocab_len, MAX_LEN, \n",
    "                       y_vocab_len, MAX_LEN,\n",
    "                       HIDDEN_DIM, NUM_LAYERS, DROPOUT, RECURRENT_DROP)\n",
    "\n",
    "BATCH_SIZE = 100\n",
    "\n",
    "def generate_batch(X, Y, batch_size):\n",
    "    i = 0\n",
    "    j = batch_size + 1\n",
    "    while True:\n",
    "        input_data = np.array(X[i:j])\n",
    "        target_data = np.array(Y[i:j])\n",
    "        target_data = np.expand_dims(target_data, axis=-1)        \n",
    "        \n",
    "        if j >= len(X):\n",
    "            i = 0\n",
    "            j = batch_size + 1\n",
    "        else:\n",
    "            i = j\n",
    "            j += batch_size\n",
    "        \n",
    "        yield (input_data, target_data)\n",
    "\n",
    "tboard = TensorBoard(log_dir='./logs')\n",
    "\n",
    "tboard_model.fit_generator(generate_batch(X_data, y_data, BATCH_SIZE), \n",
    "                    steps_per_epoch=200, epochs=10,\n",
    "                    verbose=1, callbacks=[tboard])\n"
   ]
  },
  {
   "cell_type": "markdown",
   "metadata": {},
   "source": [
    "![tensorboard_graph](tensorboard.png)\n"
   ]
  },
  {
   "cell_type": "markdown",
   "metadata": {},
   "source": [
    "# Unidirectional LSTM Encoder Decoder With Attention "
   ]
  },
  {
   "cell_type": "markdown",
   "metadata": {},
   "source": [
    "Define the parameters for your LSTM encoder decoder model with attention"
   ]
  },
  {
   "cell_type": "markdown",
   "metadata": {},
   "source": [
    "From assignment instructions: \"We now move to a more general approach called attention based approach. In this, we take a weighted sum of all weights of encoder instead of just the last one. You are already provided an attention_decoder.py file with AttentionDecoder. Add this layer on top of your encoder and run the same experiment as before.\""
   ]
  },
  {
   "cell_type": "code",
   "execution_count": 5,
   "metadata": {
    "scrolled": true
   },
   "outputs": [
    {
     "name": "stdout",
     "output_type": "stream",
     "text": [
      "Loading test data...\n",
      "data loaded and saved\n"
     ]
    }
   ],
   "source": [
    "VOCAB_SIZE = 10000\n",
    "MAX_LEN = 20\n",
    "\n",
    "article = 'data/train_article.txt'\n",
    "summary = 'data/train_title.txt'\n",
    "\n",
    "article_test = 'data/test_article.txt'\n",
    "title_test = 'data/test_title.txt'\n",
    "\n",
    "data = load_train_data(article, summary, MAX_LEN, VOCAB_SIZE)\n",
    "\n",
    "X_train = data[0]\n",
    "y_train = data[4]\n",
    "X_vocab_len, y_vocab_len = data[1], data[5]\n",
    "X_idx2word, y_idx2word = data[2], data[6]\n",
    "X_word2idx, y_word2idx = data[3], data[7]\n",
    "\n",
    "X_test, y_true = load_test_data_for_prediction(article_test, title_test)\n",
    "\n",
    "vocab = [X_idx2word, y_idx2word, X_word2idx, y_word2idx]\n",
    "\n",
    "#DON'T OVERWRITE UNLESS RETRAINING MODEL\n",
    "#with open(\"m2_vocab.pkl\", 'wb') as f:\n",
    "#    pickle.dump(vocab, f)\n",
    "\n",
    "print(\"data loaded and saved\")"
   ]
  },
  {
   "cell_type": "code",
   "execution_count": 18,
   "metadata": {
    "collapsed": true
   },
   "outputs": [],
   "source": [
    "BATCH_SIZE = 200\n",
    "HIDDEN_DIM = 128\n",
    "EPOCHS = 50\n",
    "DROPOUT = 0.2\n",
    "RECURRENT_DROP=0.5"
   ]
  },
  {
   "cell_type": "code",
   "execution_count": 16,
   "metadata": {
    "collapsed": true
   },
   "outputs": [],
   "source": [
    "def create_UniLSTMwithAttention(X_vocab_len, X_max_len, y_vocab_len, y_max_len, \n",
    "                                hidden_size, drop, recur_drop, return_probs = False):\n",
    "         \n",
    "    model = Sequential()\n",
    "    model.add(Embedding(X_vocab_len, hidden_size, input_length=X_max_len, mask_zero=True))\n",
    "    model.add(LSTM(hidden_size, recurrent_dropout=recur_drop, dropout=drop, return_sequences=True))\n",
    "    model.add(attention_decoder.AttentionDecoder(hidden_size, y_vocab_len, return_probabilities=return_probs))\n",
    "    model.compile(loss='sparse_categorical_crossentropy',\n",
    "            optimizer='rmsprop',\n",
    "            metrics=['accuracy'])\n",
    "    \n",
    "    model.summary()\n",
    "    \n",
    "    return model"
   ]
  },
  {
   "cell_type": "markdown",
   "metadata": {},
   "source": [
    "### Build and train the Model"
   ]
  },
  {
   "cell_type": "markdown",
   "metadata": {},
   "source": [
    "Train the model, as you did before, for the model without attention"
   ]
  },
  {
   "cell_type": "code",
   "execution_count": 8,
   "metadata": {
    "collapsed": true
   },
   "outputs": [
    {
     "name": "stdout",
     "output_type": "stream",
     "text": [
      "Build model...\n",
      "_________________________________________________________________\n",
      "Layer (type)                 Output Shape              Param #   \n",
      "=================================================================\n",
      "embedding_1 (Embedding)      (None, 20, 128)           1280256   \n",
      "_________________________________________________________________\n",
      "lstm_1 (LSTM)                (None, 20, 128)           131584    \n",
      "_________________________________________________________________\n",
      "AttentionDecoder (AttentionD (None, 20, 10002)         106599382 \n",
      "=================================================================\n",
      "Total params: 108,011,222\n",
      "Trainable params: 108,011,222\n",
      "Non-trainable params: 0\n",
      "_________________________________________________________________\n"
     ]
    }
   ],
   "source": [
    "#may take 5-20 minutes\n",
    "print(\"Build model...\")\n",
    "\n",
    "attn_model = create_UniLSTMwithAttention(X_vocab_len, MAX_LEN, \n",
    "                                           y_vocab_len, MAX_LEN,\n",
    "                                           HIDDEN_DIM, DROPOUT, RECURRENT_DROP)"
   ]
  },
  {
   "cell_type": "markdown",
   "metadata": {},
   "source": [
    "#### Output only shown for epochs 1-36 because I ran the model with computer in sleep, & server stopped sending messages to I/O\n",
    "However I tested rouge scores with all saved weights, and the scores presented below are from the weights saved after the final (50th epoch)"
   ]
  },
  {
   "cell_type": "code",
   "execution_count": 9,
   "metadata": {
    "collapsed": true
   },
   "outputs": [
    {
     "name": "stdout",
     "output_type": "stream",
     "text": [
      "Train...\n",
      "META-EPOCH 0/50\n",
      "Epoch 1/1\n",
      "50000/50000 [==============================] - 561s - loss: 4.0122 - acc: 0.5335   \n",
      "META-EPOCH 1/50\n",
      "Epoch 1/1\n",
      "50000/50000 [==============================] - 538s - loss: 3.5784 - acc: 0.5486   \n",
      "META-EPOCH 2/50\n",
      "Epoch 1/1\n",
      "50000/50000 [==============================] - 537s - loss: 3.4980 - acc: 0.5509   \n",
      "META-EPOCH 3/50\n",
      "Epoch 1/1\n",
      "50000/50000 [==============================] - 537s - loss: 3.4251 - acc: 0.5539   \n",
      "META-EPOCH 4/50\n",
      "Epoch 1/1\n",
      "50000/50000 [==============================] - 536s - loss: 3.3603 - acc: 0.5561   \n",
      "Predicting on X_test...\n",
      "Preparing data for Rouge scoring...\n",
      "ROUGE-2: 0.0019214507386460578\n",
      "Saved weights to weights/m2/rouge0-e4.h5\n",
      "META-EPOCH 5/50\n",
      "Epoch 1/1\n",
      "50000/50000 [==============================] - 537s - loss: 3.2994 - acc: 0.5585   \n",
      "META-EPOCH 6/50\n",
      "Epoch 1/1\n",
      "50000/50000 [==============================] - 536s - loss: 3.2474 - acc: 0.5608   \n",
      "META-EPOCH 7/50\n",
      "Epoch 1/1\n",
      "50000/50000 [==============================] - 536s - loss: 3.2004 - acc: 0.5627   \n",
      "META-EPOCH 8/50\n",
      "Epoch 1/1\n",
      "50000/50000 [==============================] - 536s - loss: 3.1575 - acc: 0.5646   \n",
      "META-EPOCH 9/50\n",
      "Epoch 1/1\n",
      "50000/50000 [==============================] - 536s - loss: 3.1180 - acc: 0.5664   \n",
      "Predicting on X_test...\n",
      "Preparing data for Rouge scoring...\n",
      "ROUGE-2: 0.006556877152995055\n",
      "Saved weights to weights/m2/rouge0-e9.h5\n",
      "META-EPOCH 10/50\n",
      "Epoch 1/1\n",
      "50000/50000 [==============================] - 536s - loss: 3.0826 - acc: 0.5679   \n",
      "META-EPOCH 11/50\n",
      "Epoch 1/1\n",
      "50000/50000 [==============================] - 536s - loss: 3.0491 - acc: 0.5692   \n",
      "META-EPOCH 12/50\n",
      "Epoch 1/1\n",
      "50000/50000 [==============================] - 536s - loss: 3.0166 - acc: 0.5702   \n",
      "META-EPOCH 13/50\n",
      "Epoch 1/1\n",
      "50000/50000 [==============================] - 536s - loss: 2.9853 - acc: 0.5718   \n",
      "META-EPOCH 14/50\n",
      "Epoch 1/1\n",
      "50000/50000 [==============================] - 537s - loss: 2.9571 - acc: 0.5730   \n",
      "Predicting on X_test...\n",
      "Preparing data for Rouge scoring...\n",
      "ROUGE-2: 0.011473586990152782\n",
      "Saved weights to weights/m2/rouge1-e14.h5\n",
      "META-EPOCH 15/50\n",
      "Epoch 1/1\n",
      "50000/50000 [==============================] - 537s - loss: 2.9287 - acc: 0.5741   \n",
      "META-EPOCH 16/50\n",
      "Epoch 1/1\n",
      "50000/50000 [==============================] - 537s - loss: 2.9010 - acc: 0.5754   \n",
      "META-EPOCH 17/50\n",
      "Epoch 1/1\n",
      "50000/50000 [==============================] - 537s - loss: 2.8745 - acc: 0.5764   \n",
      "META-EPOCH 18/50\n",
      "Epoch 1/1\n",
      "50000/50000 [==============================] - 537s - loss: 2.8482 - acc: 0.5777   \n",
      "META-EPOCH 19/50\n",
      "Epoch 1/1\n",
      "50000/50000 [==============================] - 537s - loss: 2.8235 - acc: 0.5788   \n",
      "Predicting on X_test...\n",
      "Preparing data for Rouge scoring...\n",
      "ROUGE-2: 0.014247652250734735\n",
      "Saved weights to weights/m2/rouge1-e19.h5\n",
      "META-EPOCH 20/50\n",
      "Epoch 1/1\n",
      "50000/50000 [==============================] - 537s - loss: 2.7990 - acc: 0.5800   \n",
      "META-EPOCH 21/50\n",
      "Epoch 1/1\n",
      "50000/50000 [==============================] - 537s - loss: 2.7749 - acc: 0.5811   \n",
      "META-EPOCH 22/50\n",
      "Epoch 1/1\n",
      "50000/50000 [==============================] - 537s - loss: 2.7530 - acc: 0.5819   \n",
      "META-EPOCH 23/50\n",
      "Epoch 1/1\n",
      "50000/50000 [==============================] - 537s - loss: 2.7297 - acc: 0.5827   \n",
      "META-EPOCH 24/50\n",
      "Epoch 1/1\n",
      "50000/50000 [==============================] - 536s - loss: 2.7085 - acc: 0.5838   \n",
      "Predicting on X_test...\n",
      "Preparing data for Rouge scoring...\n",
      "ROUGE-2: 0.016225369777287522\n",
      "Saved weights to weights/m2/rouge1-e24.h5\n",
      "META-EPOCH 25/50\n",
      "Epoch 1/1\n",
      "50000/50000 [==============================] - 536s - loss: 2.6882 - acc: 0.5849   \n",
      "META-EPOCH 26/50\n",
      "Epoch 1/1\n",
      "50000/50000 [==============================] - 536s - loss: 2.6661 - acc: 0.5857   \n",
      "META-EPOCH 27/50\n",
      "Epoch 1/1\n",
      "50000/50000 [==============================] - 536s - loss: 2.6461 - acc: 0.5863   \n",
      "META-EPOCH 28/50\n",
      "Epoch 1/1\n",
      "50000/50000 [==============================] - 536s - loss: 2.6261 - acc: 0.5874   \n",
      "META-EPOCH 29/50\n",
      "Epoch 1/1\n",
      "50000/50000 [==============================] - 537s - loss: 2.6064 - acc: 0.5881   \n",
      "Predicting on X_test...\n",
      "Preparing data for Rouge scoring...\n",
      "ROUGE-2: 0.01632059194431792\n",
      "Saved weights to weights/m2/rouge1-e29.h5\n",
      "META-EPOCH 30/50\n",
      "Epoch 1/1\n",
      "50000/50000 [==============================] - 537s - loss: 2.5867 - acc: 0.5892   \n",
      "META-EPOCH 31/50\n",
      "Epoch 1/1\n",
      "50000/50000 [==============================] - 536s - loss: 2.5665 - acc: 0.5902   \n",
      "META-EPOCH 32/50\n",
      "Epoch 1/1\n",
      "50000/50000 [==============================] - 536s - loss: 2.5467 - acc: 0.5909   \n",
      "META-EPOCH 33/50\n",
      "Epoch 1/1\n",
      "50000/50000 [==============================] - 536s - loss: 2.5306 - acc: 0.5917   \n",
      "META-EPOCH 34/50\n",
      "Epoch 1/1\n",
      "50000/50000 [==============================] - 536s - loss: 2.5126 - acc: 0.5926   \n",
      "Predicting on X_test...\n",
      "Preparing data for Rouge scoring...\n",
      "ROUGE-2: 0.01786496633068689\n",
      "Saved weights to weights/m2/rouge1-e34.h5\n",
      "META-EPOCH 35/50\n",
      "Epoch 1/1\n",
      "50000/50000 [==============================] - 536s - loss: 2.4964 - acc: 0.5935   \n",
      "META-EPOCH 36/50\n",
      "Epoch 1/1\n",
      "37800/50000 [=====================>........] - ETA: 130s - loss: 2.4711 - acc: 0.5950"
     ]
    },
    {
     "name": "stderr",
     "output_type": "stream",
     "text": [
      "IOPub message rate exceeded.\n",
      "The notebook server will temporarily stop sending output\n",
      "to the client in order to avoid crashing it.\n",
      "To change this limit, set the config variable\n",
      "`--NotebookApp.iopub_msg_rate_limit`.\n",
      "\n",
      "Current values:\n",
      "NotebookApp.iopub_msg_rate_limit=1000.0 (msgs/sec)\n",
      "NotebookApp.rate_limit_window=3.0 (secs)\n",
      "\n"
     ]
    }
   ],
   "source": [
    "print('Train...')\n",
    "\n",
    "for i in range(EPOCHS):\n",
    "    print(\"META-EPOCH {}/{}\".format(i, EPOCHS))\n",
    "    attn_model.fit(X_train, np.expand_dims(y_train, axis=-1), \n",
    "                    epochs=1, batch_size=BATCH_SIZE)\n",
    "\n",
    "    #assess rouge scores every 5 epochs\n",
    "    if (i+1)%5 == 0:\n",
    "        \n",
    "        y_pred = predict_on_model(attn_model, X_test[0:1000])\n",
    "        scores = Rouge().get_scores(hyps=y_pred, refs=y_true[0:1000], avg=True)\n",
    "        \n",
    "        print(\"ROUGE-2: {}\".format(scores['rouge-2']['f']))\n",
    "        weight_f = \"weights/m2/rouge{}-e{}.h5\".format(int(scores['rouge-2']['f'] * 100), i)\n",
    "        attn_model.save_weights(weight_f)\n",
    "        print(\"Saved weights to {}\".format(weight_f))\n",
    "                  \n",
    "print(\"a fitting end\")"
   ]
  },
  {
   "cell_type": "markdown",
   "metadata": {},
   "source": [
    "# Evaluation using Rouge Score"
   ]
  },
  {
   "cell_type": "markdown",
   "metadata": {},
   "source": [
    "## Best model summary\n",
    "\n",
    "### Parameters\n",
    "\n",
    "BATCH_SIZE = 200  \n",
    "HIDDEN_DIM = 128  \n",
    "EPOCHS = 50  \n",
    "DROPOUT = 0.2 (ONLY IN INPUT LSTM)  \n",
    "RECURRENT_DROPOUT = 0.5 (IN BOTH LSTMS)  \n",
    "MAX_LEN = 20 (for both input and output)\n",
    "VOCAB_SIZE = 10000 \n",
    "LOSS FUNCTION: sparse_categorical_crossentropy\n",
    "\n",
    "### Results\n",
    "\n",
    "Summarized more cleanly in analysis section below)\n",
    "\n",
    "Rouge 1: {'r': 0.17391243064005885, 'p': 0.35230606575963713, 'f': 0.21562212026991187}  \n",
    "Rouge 2: {'r': 0.061693226871168037, 'p': 0.063858936301793442, 'f': 0.060642030930029928}  \n",
    "Rouge l: {'r': 0.1689324853052816, 'p': 0.17733595253952394, 'f': 0.16163418511859839}  \n",
    "\n",
    "\n",
    "### run cell below to load weights from trained model and confirm results\n",
    "(takes around 10 min to build model, then around 3-5 min to predict on X_test and calculate rouge)"
   ]
  },
  {
   "cell_type": "code",
   "execution_count": 19,
   "metadata": {
    "collapsed": true
   },
   "outputs": [
    {
     "name": "stdout",
     "output_type": "stream",
     "text": [
      "Build model...\n",
      "_________________________________________________________________\n",
      "Layer (type)                 Output Shape              Param #   \n",
      "=================================================================\n",
      "embedding_1 (Embedding)      (None, 20, 128)           1280256   \n",
      "_________________________________________________________________\n",
      "lstm_1 (LSTM)                (None, 20, 128)           131584    \n",
      "_________________________________________________________________\n",
      "AttentionDecoder (AttentionD (None, 20, 10002)         106599382 \n",
      "=================================================================\n",
      "Total params: 108,011,222\n",
      "Trainable params: 108,011,222\n",
      "Non-trainable params: 0\n",
      "_________________________________________________________________\n",
      "Loading test data...\n",
      "data loaded\n",
      "Loading test data...\n",
      "Predicting on X_test...\n",
      "Preparing data for Rouge scoring...\n",
      "Rouge 1: {'r': 0.17391243064005885, 'f': 0.21562212026991187, 'p': 0.35230606575963713}\n",
      "Rouge 2: {'r': 0.061693226871168037, 'f': 0.060642030930029928, 'p': 0.063858936301793442}\n",
      "Rouge l: {'r': 0.1689324853052816, 'f': 0.16163418511859839, 'p': 0.17733595253952394}\n"
     ]
    }
   ],
   "source": [
    "\n",
    "MAX_LEN = 20\n",
    "VOCAB_SIZE = 10000\n",
    "\n",
    "article_test = 'data/test_article.txt'\n",
    "title_test = 'data/test_title.txt'\n",
    "\n",
    "data = load_train_data(article_test, title_test, MAX_LEN, VOCAB_SIZE)\n",
    "\n",
    "X_train = data[0]\n",
    "y_train = data[4]\n",
    "X_vocab_len, y_vocab_len = data[1], data[5]\n",
    "#ignore data[2], data[3], data[6], data[7]. Instead, load idx2word and word2idx with code block below\n",
    "\n",
    "#reload idx2word and word2idx generated at time of training\n",
    "with open(\"m2_vocab.pkl\", \"rb\") as f:\n",
    "    X_idx2word, y_idx2word, X_word2idx, y_word2idx = pickle.load(f)\n",
    "\n",
    "    \n",
    "\n",
    "print(\"Build model...\")\n",
    "attn_model = create_UniLSTMwithAttention(X_vocab_len, MAX_LEN, \n",
    "                                           y_vocab_len, MAX_LEN,\n",
    "                                           HIDDEN_DIM, DROPOUT, RECURRENT_DROP)\n",
    "attn_model.load_weights(\"weights/m2/rouge1-e49.h5\")\n",
    "\n",
    "\n",
    "\n",
    "X_test, y_true = load_test_data_for_prediction(article_test, title_test)\n",
    "\n",
    "print(\"data loaded\")\n",
    "\n",
    "\n",
    "article_test = 'data/test_article.txt'\n",
    "summary_test = 'data/test_title.txt'\n",
    "X_test, y_true = load_test_data_for_prediction(article_test, summary_test)\n",
    "y_pred = predict_on_model(attn_model, X_test)\n",
    "scores = Rouge().get_scores(hyps=y_pred, refs=y_true, avg=True)\n",
    "print(\"Rouge 1: {}\".format(scores['rouge-1']))\n",
    "print(\"Rouge 2: {}\".format(scores['rouge-2']))\n",
    "print(\"Rouge l: {}\".format(scores['rouge-l']))\n"
   ]
  },
  {
   "cell_type": "markdown",
   "metadata": {},
   "source": [
    "#### Run cell below to save predictions"
   ]
  },
  {
   "cell_type": "code",
   "execution_count": null,
   "metadata": {
    "collapsed": true
   },
   "outputs": [],
   "source": [
    "with open(\"m2_y_pred.txt\", 'w', encoding='utf-8') as f:\n",
    "    [f.write(line + '\\n') for line in y_pred]"
   ]
  },
  {
   "cell_type": "markdown",
   "metadata": {},
   "source": [
    "# Analysis"
   ]
  },
  {
   "cell_type": "markdown",
   "metadata": {},
   "source": [
    "## Input / Gold Output / Basic LSTM / Attention Model Results table"
   ]
  },
  {
   "cell_type": "markdown",
   "metadata": {},
   "source": [
    "\n",
    "### BASIC LSTM ROUGE SCORES:\n",
    "#### Rouge 1  \n",
    "    r: 15.93  \n",
    "    p: 22.01  \n",
    "    f: 17.8  \n",
    "#### Rouge 2:  \n",
    "    r: 5.91  \n",
    "    p: 6.18  \n",
    "    f: 5.95\n",
    "### LSTM WITH ATTENTION ROUGE SCORES:\n",
    "#### Rouge 1  \n",
    "    r: 17.39  \n",
    "    p: 35.23  \n",
    "    f: 23.56  \n",
    "#### Rouge 2:  \n",
    "    r: 6.17  \n",
    "    p: 6.39  \n",
    "    f: 6.06"
   ]
  },
  {
   "cell_type": "markdown",
   "metadata": {},
   "source": [
    "## Prediction visualization\n",
    "\n",
    "### 5 GOOD PREDICTIONS  \n",
    "\n",
    "INPUT: germany 's stocks opened higher tuesday on the frankfurt stock exchange .\n",
    "  \n",
    "GOLD: german stocks open higher\n",
    "  \n",
    "BASIC LSTM: german stocks open higher\n",
    "  \n",
    "ATTENTION: german stocks open higher\n",
    "  \n",
    "=================================  \n",
    "INPUT: share prices on the london stock exchange were higher at midday tuesday .\n",
    "  \n",
    "GOLD: london share prices up at midday\n",
    "  \n",
    "BASIC LSTM: index up at ####.# at midday\n",
    "  \n",
    "ATTENTION: at london share prices higher at midday\n",
    "  \n",
    "=================================  \n",
    "INPUT: tokyo stocks rose monday morning , lifted by hefty gains on wall street .\n",
    "  \n",
    "GOLD: tokyo stocks rise dollar sharply lower against yen\n",
    "  \n",
    "BASIC LSTM: tokyo stocks rise higher higher dollar dollar lower against yen\n",
    "  \n",
    "ATTENTION: tokyo tokyo tokyo stocks higher dollar up against yen\n",
    "  \n",
    "=================================  \n",
    "INPUT: former swiss president ernst brugger has died , it was announced monday .\n",
    "  \n",
    "GOLD: former swiss president ernst UNK dies at ##\n",
    "  \n",
    "BASIC LSTM: president president president president dies at ##\n",
    "  \n",
    "ATTENTION: former president UNK dies president dies\n",
    "  \n",
    "=================================  \n",
    "INPUT: treasury prices rose friday despite a strong february employment report .\n",
    "  \n",
    "GOLD: treasury prices rise on strong employment report\n",
    "  \n",
    "BASIC LSTM: treasury treasurys prices rise on strong jobs reports\n",
    "  \n",
    "ATTENTION: treasury treasury prices rise on treasury jobs data\n",
    "  \n",
    "=================================  \n",
    "\n",
    "### 5 BAD PREDICTIONS  \n",
    "\n",
    "INPUT: the courses of three indexes on the frankfurt stock exchange fell friday .\n",
    "  \n",
    "GOLD: ecb main reference exchange rates\n",
    "  \n",
    "BASIC LSTM: ecb main reference exchange rates\n",
    "  \n",
    "ATTENTION: german german stock exchange fall\n",
    "   \n",
    "=================================  \n",
    "INPUT: the internet 's world wide web is a fertile place for parents and <unk> .\n",
    "  \n",
    "GOLD: web sites offer a new click for parents\n",
    "  \n",
    "BASIC LSTM: internet the the the the the internet\n",
    "  \n",
    "ATTENTION: internet internet internet internet internet internet internet internet\n",
    "  \n",
    "=================================  \n",
    "INPUT: the cal state northridge football team looked a lot different this time .\n",
    "  \n",
    "GOLD: northridge improves just does n't win\n",
    "  \n",
    "BASIC LSTM: state state state northridge in state\n",
    "  \n",
    "ATTENTION: northridge northridge northridge northridge northridge football northridge\n",
    "  \n",
    "=================================  \n",
    "INPUT: mexican stocks closed higher wednesday , in line with u.s. equity gains .\n",
    "  \n",
    "GOLD: stocks rise in mexico argentina ; finish flat in brazil venezuela\n",
    "  \n",
    "BASIC LSTM: stocks stocks in in in brazil argentina brazil\n",
    "  \n",
    "ATTENTION: up stocks stocks in mexico mexico chile ; up in argentina chile\n",
    "  \n",
    "=================================  \n",
    "INPUT: john mccain and sarah palin will be back on the campaign trail together .\n",
    "  \n",
    "GOLD: mccain palin to campaign together in arizona\n",
    "  \n",
    "BASIC LSTM: sherlock dinner palin palin palin palin own bill\n",
    "  \n",
    "ATTENTION: mccain palin on on senate UNK\n",
    "  \n",
    "=================================  \n",
    "\n",
    "### 5 RANDOMLY SELECTED PREDICTIONS  \n",
    "\n",
    "INPUT: the cold war was an ideological war , a weapons war and an economic war .\n",
    "  \n",
    "GOLD: the cold war and its UNK questions\n",
    "  \n",
    "BASIC LSTM: blair war war war war war war war war\n",
    "  \n",
    "ATTENTION: war war war war war war war war\n",
    "  \n",
    "=================================  \n",
    "INPUT: share prices in taiwan closed #.# percent higher wednesday , brokers said .\n",
    "  \n",
    "GOLD: taipei shares end #.# percent higher\n",
    "  \n",
    "BASIC LSTM: taipei shares end #.# percent higher\n",
    "  \n",
    "ATTENTION: close taipei shares close #.# percent higher\n",
    "  \n",
    "=================================  \n",
    "INPUT: it was business as usual at the old navy base on a recent weekday morning .\n",
    "  \n",
    "GOLD: threat of closure gives states major case of base fever\n",
    "  \n",
    "BASIC LSTM: shopping luxury crime highlights during during constitution\n",
    "  \n",
    "ATTENTION: to to a the UNK\n",
    "  \n",
    "=================================  \n",
    "INPUT: the following are recipes made with ingredients ordered through the mail .\n",
    "  \n",
    "GOLD: recipes used to test mail-order ingredients\n",
    "  \n",
    "BASIC LSTM: the the the for the of users\n",
    "  \n",
    "ATTENTION: UNK UNK for UNK\n",
    "  \n",
    "=================================  \n",
    "INPUT: jennifer hudson is returning to '' american idol '' -- for one night only .\n",
    "  \n",
    "GOLD: jennifer hudson slated to sing on american idol\n",
    "  \n",
    "BASIC LSTM: potter potter is interview in detroit shoot\n",
    "  \n",
    "ATTENTION: idol UNK american american american idol"
   ]
  },
  {
   "cell_type": "markdown",
   "metadata": {},
   "source": [
    "### Top 20 Rouge-2 'f' scores"
   ]
  },
  {
   "cell_type": "code",
   "execution_count": 98,
   "metadata": {},
   "outputs": [
    {
     "name": "stdout",
     "output_type": "stream",
     "text": [
      "Top 20 r2_scores\n",
      "(427, 0.999999995) : share prices close lower\n",
      "(1628, 0.999999995) : australian dollar closes higher\n",
      "(1629, 0.999999995) : chinext index opens higher monday\n",
      "(1777, 0.999999995) : philippine stocks close higher\n",
      "(1787, 0.999999995) : philippine stocks close lower\n",
      "(1851, 0.999999995) : australian dollar closes higher\n",
      "(1863, 0.999999995) : australian stock market drops\n",
      "(1875, 0.999999995) : german stocks open higher\n",
      "(1901, 0.999999995) : stocks close lower in mexico brazil\n",
      "(3874, 0.999999995) : los angeles daily news budget\n",
      "(4061, 0.999999995) : malaysia tin market closes lower\n",
      "(4112, 0.999999995) : stocks close lower in mexico brazil\n",
      "(4122, 0.999999995) : hang seng china enterprises index up\n",
      "(4128, 0.999999995) : chinext index opens lower wednesday\n",
      "(4191, 0.999999995) : australian dollar closes higher\n",
      "(4226, 0.999999995) : philippine stocks close higher\n",
      "(4264, 0.999999995) : stocks end higher in mexico brazil\n",
      "(4267, 0.999999995) : german stocks open higher\n",
      "(4291, 0.999999995) : german stocks close lower\n",
      "(5929, 0.999999995) : los angeles daily news budget\n"
     ]
    }
   ],
   "source": [
    "scores = Rouge().get_scores(hyps=y_pred, refs=y_true, avg=False)\n",
    "r2_scores = [(i, scores[i]['rouge-2']['f']) for i in range(len(scores))]\n",
    "r2_scores.sort(key= lambda r2: r2[1], reverse=True)\n",
    "print(\"Top 20 r2_scores\")\n",
    "for i in range(20):\n",
    "    print(\"{} : {}\".format(r2_scores[i], y_pred[r2_scores[i][0]]))"
   ]
  },
  {
   "cell_type": "markdown",
   "metadata": {},
   "source": [
    "## Visualization and analysis of good predictions"
   ]
  },
  {
   "cell_type": "markdown",
   "metadata": {},
   "source": [
    "As is apparent from the list above, the attention model performs uncannily well on inputs related to markets and stocks. Rather than analyzing 5 perfect predictions, which may have very similar attention visualizations, I analyze one prediction drawn from the above list, and four less good predictions that demonstrate interesting characteristics of the model"
   ]
  },
  {
   "cell_type": "markdown",
   "metadata": {},
   "source": [
    "### Input: \"germany 's stocks opened higher tuesday on the frankfurt stock exchange.\"\n",
    "### Output: \"german stocks open higher\"\n",
    "The prediction \"german stocks open higher\" attains a rouge-2 'f' score of 0.999999995. I visualized several other predictions with this score, all relating to stocks and markets, and found that they all had similar attention maps. The model uses the entire sentence to predict every word but \"stocks,\" and the input tokens \"frankfurt\" \"exchange\" and \".\" are given the most attention for every output word prediction. Notably, none of the tokens that appear in the correctly predicted output sequence are given particular attention, and none the input tokens which do receive higher attention appear in the output sequence. The model doesn't use \"Germany\" to predict \"German,\" but \"Frankfurt,\" suggesting that it has learned to associate Germany and Frankfurt. For all of the predictions with near-perfect rouge scores, the final token '.' is always given particular attention, which might mean that the model is overfitted for these sentences: once it has only seen finance related words and sees that the sequence has ended, it can predict the title with high accuracy."
   ]
  },
  {
   "cell_type": "code",
   "execution_count": 19,
   "metadata": {},
   "outputs": [
    {
     "data": {
      "text/plain": [
       "<matplotlib.figure.Figure at 0x7eff023c7eb8>"
      ]
     },
     "metadata": {},
     "output_type": "display_data"
    },
    {
     "data": {
      "image/png": "[encoded data removed]",
      "text/plain": [
       "<matplotlib.figure.Figure at 0x7eff0241d630>"
      ]
     },
     "metadata": {},
     "output_type": "display_data"
    }
   ],
   "source": [
    "viz.attention_map(X_true[1875], np.expand_dims(X_test[1875], axis=0), y_idx2word)"
   ]
  },
  {
   "cell_type": "markdown",
   "metadata": {},
   "source": [
    "### Input: 'share prices on the london stock exchange were higher at midday tuesday'\n",
    "### Output: 'at london share prices higher at midday'\n",
    "This is not a perfect output sequence prediction, if only because of the syntactic strangeness of the first bigram \"at london.\" It does, however, convey an intelligible summary of the input sequence. Unlike the similar prediction discussed above, \"exchange\" is not given particular attention. For the output words \"london\" and \"share,\" only the tokens given particular attention are used. For all other output words, the same tokens are given particular attention, but some attention is also distributed throughout the sentence. Similarly to the prediction discussed above, for this prediction the model gave attention primarily to words that are not generated in the output sequence, with the exception of \"higher,\" which is given attention and appears in both input and output. Also similarly to the above prediction, the stop token '.' is given more attention than any other individual token in the input, particularly for the second half of the output sequence. Again, to me, this suggests that the model has learned the structure of sentences related to finance particularly well, and once it has seen the stop token and only seen finance-related words before it, it can predict the output with high confidence."
   ]
  },
  {
   "cell_type": "code",
   "execution_count": 20,
   "metadata": {},
   "outputs": [
    {
     "data": {
      "text/plain": [
       "<matplotlib.figure.Figure at 0x7eff0245ddd8>"
      ]
     },
     "metadata": {},
     "output_type": "display_data"
    },
    {
     "data": {
      "image/png": "[encoded data removed]",
      "text/plain": [
       "<matplotlib.figure.Figure at 0x7eff023c80f0>"
      ]
     },
     "metadata": {},
     "output_type": "display_data"
    }
   ],
   "source": [
    "viz.attention_map(X_true[0], np.expand_dims(X_test[0], axis=0), y_idx2word)"
   ]
  },
  {
   "cell_type": "markdown",
   "metadata": {},
   "source": [
    "### Input: 'tokyo stocks rose monday morning , lifted by hefty gains on wall street'\n",
    "### Output: 'tokyo tokyo tokyo stocks higher dollar up against yen'\n",
    "\n",
    "This is, of course, not one of the predictions with a near-perfect rouge score. It contains repeated words, is grammatically unsound, and, most importantly, incorrectly conveys that the dollar has risen against the yen, when in fact the yen has been lifted by the dollar. It _is_ a good prediction to the extent that it correctly paraphrases \"wall street\" as \"dollar,\" associates \"tokyo\" with \"yen,\" even though \"yen\" does not appear in the input sequence, and correctly states that tokyo stocks are higher. The model is predicting abstractively, paraphrasing \"lifted by hefty gains on\" as simply \"higher.\" Once again, the most attention is given to the second half of the sequence, even though it is the words in the first half of the sequence that are correctly summarized. Once again, that \"street\" is given so much attention probably has more to do with its position as the final non-stopping token in the sentence than with the actual word itself. It is notable, however, that unlike the previous two finance-related predictions, the stop token '.' is not given particular attention, suggesting that although this prediction is somewhat worse that the other two, it does not seem to have been a result of overfitting."
   ]
  },
  {
   "cell_type": "code",
   "execution_count": 21,
   "metadata": {
    "scrolled": false
   },
   "outputs": [
    {
     "data": {
      "text/plain": [
       "<matplotlib.figure.Figure at 0x7eff0246b198>"
      ]
     },
     "metadata": {},
     "output_type": "display_data"
    },
    {
     "data": {
      "image/png": "[encoded data removed]",
      "text/plain": [
       "<matplotlib.figure.Figure at 0x7eff023fdb70>"
      ]
     },
     "metadata": {},
     "output_type": "display_data"
    }
   ],
   "source": [
    "viz.attention_map(X_true[120], np.expand_dims(X_test[120], axis=0), y_idx2word)"
   ]
  },
  {
   "cell_type": "markdown",
   "metadata": {},
   "source": [
    "### Input: former swiss president UNK UNK has died , it was announced monday\n",
    "### Output: former president UNK dies president dies\n",
    "\n",
    "This is a non-markets related prediction that is fairly good. It clearly conveys the most essential information from the input sequence. In addition to the fault of repeating \"president dies\" unnecessarily at the end, the prediction might be faulted for ignoring too much of the input sequence. For instance, it would be better to specify \"swiss president\" rather than just \"president.\" Unlike the market-related predictions, attention seems to have been used very little in this prediction, being evenly distributed for each word in the output. The model does give less attention to the ',' token, and gives somewhat more attention to the first half of the input sentence than the second. It also relies more heavily on the input sequence to predict the end of the sentence than the beginning (lighter squares on the bottom)."
   ]
  },
  {
   "cell_type": "code",
   "execution_count": 22,
   "metadata": {
    "scrolled": false
   },
   "outputs": [
    {
     "data": {
      "text/plain": [
       "<matplotlib.figure.Figure at 0x7eff024610f0>"
      ]
     },
     "metadata": {},
     "output_type": "display_data"
    },
    {
     "data": {
      "image/png": "[encoded data removed]",
      "text/plain": [
       "<matplotlib.figure.Figure at 0x7eff0246d080>"
      ]
     },
     "metadata": {},
     "output_type": "display_data"
    }
   ],
   "source": [
    "viz.attention_map(X_true[102], np.expand_dims(X_test[102], axis=0), y_idx2word)"
   ]
  },
  {
   "cell_type": "markdown",
   "metadata": {},
   "source": [
    "### Input: treasury prices rose friday despite a strong february employment report\n",
    "### Output: treasury treasury prices rise on treasury jobs data\n",
    "\n",
    "This prediction sequence contains repeated words, mischaracterizes the \"jobs data\" as coming from the treasury, and is semantically incorrect in that while it is correct that prices rose \"on\" jobs data, this loses the meaning of the original sequence that prices rose \"despite\" jobs data. It is more or less syntactically fluent, however. The first half of the sentence seems to have been extractively generated, while the conversion of \"employment report\" to \"jobs data\" is abstractive. As with many of the predictions my model makes, the model makes this prediction by giving particular attention to the stopping character '.', and nearly equal attention to every other word. Also as with other predictions, the model barely references the input sequence in generating the second and third words."
   ]
  },
  {
   "cell_type": "code",
   "execution_count": 23,
   "metadata": {
    "scrolled": false
   },
   "outputs": [
    {
     "data": {
      "text/plain": [
       "<matplotlib.figure.Figure at 0x7eff02481da0>"
      ]
     },
     "metadata": {},
     "output_type": "display_data"
    },
    {
     "data": {
      "image/png": "[encoded data removed]",
      "text/plain": [
       "<matplotlib.figure.Figure at 0x7eff02490278>"
      ]
     },
     "metadata": {},
     "output_type": "display_data"
    }
   ],
   "source": [
    "viz.attention_map(X_true[1401], np.expand_dims(X_test[1401], axis=0), y_idx2word)"
   ]
  },
  {
   "cell_type": "markdown",
   "metadata": {},
   "source": [
    "### Some more examples of markets-related predictions with 0.999995 r2 f scores\n",
    "### toggle to view"
   ]
  },
  {
   "cell_type": "code",
   "execution_count": 37,
   "metadata": {
    "collapsed": true
   },
   "outputs": [
    {
     "data": {
      "text/plain": [
       "<matplotlib.figure.Figure at 0x7f82715d0668>"
      ]
     },
     "metadata": {},
     "output_type": "display_data"
    },
    {
     "data": {
      "image/png": "[encoded data removed]",
      "text/plain": [
       "<matplotlib.figure.Figure at 0x7f826fddaa90>"
      ]
     },
     "metadata": {},
     "output_type": "display_data"
    }
   ],
   "source": [
    "viz.attention_map(X_true[6725], np.expand_dims(X_test[6725], axis=0), y_idx2word)"
   ]
  },
  {
   "cell_type": "code",
   "execution_count": 38,
   "metadata": {
    "collapsed": true
   },
   "outputs": [
    {
     "data": {
      "text/plain": [
       "<matplotlib.figure.Figure at 0x7f82715b53c8>"
      ]
     },
     "metadata": {},
     "output_type": "display_data"
    },
    {
     "data": {
      "image/png": "[encoded data removed]",
      "text/plain": [
       "<matplotlib.figure.Figure at 0x7f826efc8ba8>"
      ]
     },
     "metadata": {},
     "output_type": "display_data"
    }
   ],
   "source": [
    "viz.attention_map(X_true[1863], np.expand_dims(X_test[1863], axis=0), y_idx2word)"
   ]
  },
  {
   "cell_type": "code",
   "execution_count": 39,
   "metadata": {
    "collapsed": true
   },
   "outputs": [
    {
     "data": {
      "text/plain": [
       "<matplotlib.figure.Figure at 0x7f8271dee5f8>"
      ]
     },
     "metadata": {},
     "output_type": "display_data"
    },
    {
     "data": {
      "image/png": "[encoded data removed]",
      "text/plain": [
       "<matplotlib.figure.Figure at 0x7f8271e0b9e8>"
      ]
     },
     "metadata": {},
     "output_type": "display_data"
    }
   ],
   "source": [
    "viz.attention_map(X_true[1777], np.expand_dims(X_test[1777], axis=0), y_idx2word)"
   ]
  },
  {
   "cell_type": "code",
   "execution_count": 40,
   "metadata": {
    "collapsed": true
   },
   "outputs": [
    {
     "data": {
      "text/plain": [
       "<matplotlib.figure.Figure at 0x7f8271e356d8>"
      ]
     },
     "metadata": {},
     "output_type": "display_data"
    },
    {
     "data": {
      "image/png": "[encoded data removed]",
      "text/plain": [
       "<matplotlib.figure.Figure at 0x7f8271b9fbe0>"
      ]
     },
     "metadata": {},
     "output_type": "display_data"
    }
   ],
   "source": [
    "viz.attention_map(X_true[1629], np.expand_dims(X_test[1629], axis=0), y_idx2word)"
   ]
  },
  {
   "cell_type": "code",
   "execution_count": 41,
   "metadata": {
    "collapsed": true
   },
   "outputs": [
    {
     "data": {
      "text/plain": [
       "<matplotlib.figure.Figure at 0x7f8271253358>"
      ]
     },
     "metadata": {},
     "output_type": "display_data"
    },
    {
     "data": {
      "image/png": "[encoded data removed]",
      "text/plain": [
       "<matplotlib.figure.Figure at 0x7f827124c7f0>"
      ]
     },
     "metadata": {},
     "output_type": "display_data"
    }
   ],
   "source": [
    "viz.attention_map(X_true[1628], np.expand_dims(X_test[1628], axis=0), y_idx2word)"
   ]
  },
  {
   "cell_type": "code",
   "execution_count": 42,
   "metadata": {
    "collapsed": true
   },
   "outputs": [
    {
     "data": {
      "text/plain": [
       "<matplotlib.figure.Figure at 0x7f8271718630>"
      ]
     },
     "metadata": {},
     "output_type": "display_data"
    },
    {
     "data": {
      "image/png": "[encoded data removed]",
      "text/plain": [
       "<matplotlib.figure.Figure at 0x7f827170b6a0>"
      ]
     },
     "metadata": {},
     "output_type": "display_data"
    }
   ],
   "source": [
    "viz.attention_map(X_true[427], np.expand_dims(X_test[427], axis=0), y_idx2word)"
   ]
  },
  {
   "cell_type": "markdown",
   "metadata": {},
   "source": [
    "## Visualization and analysis of bad predictions"
   ]
  },
  {
   "cell_type": "markdown",
   "metadata": {},
   "source": [
    "### Some 0.0 Rouge-2 'f' scores\n",
    "\n",
    "5,893 out of 7000 of the predictions had rouge scores of 0.0. A random selection of 20 are printed below. I selected one of them to supplement the four bad examples that I chose manually to illustrate particular shortcomings of the model."
   ]
  },
  {
   "cell_type": "code",
   "execution_count": 171,
   "metadata": {},
   "outputs": [
    {
     "name": "stdout",
     "output_type": "stream",
     "text": [
      "Randomly selected 20 rouge-2 'f' scores of 0.0 from 5,893 predictions with 0.0\n",
      "(5600, 0.0) : cowboys cowboys cowboys cowboys cowboys cowboys\n",
      "(3706, 0.0) : UNK UNK UNK UNK for UNK UNK\n",
      "(1987, 0.0) : final champions champions champions champions champions league league\n",
      "(1315, 0.0) : UNK UNK UNK UNK UNK UNK UNK\n",
      "(4022, 0.0) : german german stock exchange fall\n"
     ]
    }
   ],
   "source": [
    "r2_scores.sort(key= lambda r2: r2[1], reverse=False)\n",
    "print(\"Randomly selected 20 rouge-2 'f' scores of 0.0 from 5,893 predictions with 0.0\")\n",
    "for i in range(5):\n",
    "    idx = random.randint(0, 5892)\n",
    "    print(\"{} : {}\".format(r2_scores[idx], y_pred[r2_scores[idx][0]]))"
   ]
  },
  {
   "cell_type": "markdown",
   "metadata": {},
   "source": [
    "### Input: the courses of three indexes on the frankfurt stock exchange fell friday\n",
    "### Output: german german stock exchange fall\n",
    "\n",
    "I included this prediction vizualization because it does not seem to be an especially bad prediction, but achieved a rouge-2 'f' score of 0. The gold title was \"ecb message exchange rates.\" Perhaps the fact that this legible and accurate prediction with the minor error of repeating the first word achieved a 0.0 r2f score says something about the quality of the test data; perhaps it says something about the use of automatic rather than human evaluation of summarization tasks. The attention map for this prediction is very similar to the maps for other markets-related predictions that achieved high rouge scores."
   ]
  },
  {
   "cell_type": "code",
   "execution_count": 18,
   "metadata": {
    "scrolled": false
   },
   "outputs": [
    {
     "data": {
      "text/plain": [
       "<matplotlib.figure.Figure at 0x7fec9bede128>"
      ]
     },
     "metadata": {},
     "output_type": "display_data"
    },
    {
     "data": {
      "image/png": "[encoded data removed]",
      "text/plain": [
       "<matplotlib.figure.Figure at 0x7fec9bede7f0>"
      ]
     },
     "metadata": {},
     "output_type": "display_data"
    }
   ],
   "source": [
    "viz.attention_map(X_true[4022], np.expand_dims(X_test[4022], axis=0), y_idx2word)"
   ]
  },
  {
   "cell_type": "markdown",
   "metadata": {},
   "source": [
    "### Input: the internet 's world wide web is a UNK place for parents and UNK\n",
    "### Output: internet internet internet internet internet internet internet internet\n",
    "\n",
    "This prediction is an example of my model's most vexing problem: producing output that is simply the first noun or word that can be a noun in the sentence and simply repeating it several times to produce input of appropriate length. The only redeeming quality of this prediction is that internet should, in fact, have been the first word of the output. The attention map for this predictions shares some characteristics with the attention maps of good predictions: the second word is generated with nearly no reference to the input sequence. Slightly more attention is given to the second half the sentence, but otherwise is fairly evenly distributed. across the sentence for every output prediction."
   ]
  },
  {
   "cell_type": "code",
   "execution_count": 43,
   "metadata": {},
   "outputs": [
    {
     "data": {
      "text/plain": [
       "<matplotlib.figure.Figure at 0x7f826f484ef0>"
      ]
     },
     "metadata": {},
     "output_type": "display_data"
    },
    {
     "data": {
      "image/png": "[encoded data removed]",
      "text/plain": [
       "<matplotlib.figure.Figure at 0x7f826fdc1e10>"
      ]
     },
     "metadata": {},
     "output_type": "display_data"
    }
   ],
   "source": [
    "viz.attention_map(X_true[675], np.expand_dims(X_test[675], axis=0), y_idx2word)"
   ]
  },
  {
   "cell_type": "markdown",
   "metadata": {},
   "source": [
    "### Input: the cal state northridge football team looked a lot different this time\n",
    "### Output: northridge northridge northridge northridge northridge football northridge\n",
    "\n",
    "This prediction, as with nearly all of my bad predictions, fails by repeating the same word, with the exception of the penultimate \"football\" token. There is little in the attention map to indicate why the second to last token is predicted differently, although the the attention paid to the end of the sentence is slightly higher for the \"football\" prediction."
   ]
  },
  {
   "cell_type": "code",
   "execution_count": 44,
   "metadata": {
    "scrolled": false
   },
   "outputs": [
    {
     "data": {
      "text/plain": [
       "<matplotlib.figure.Figure at 0x7f8271f8c390>"
      ]
     },
     "metadata": {},
     "output_type": "display_data"
    },
    {
     "data": {
      "image/png": "[encoded data removed]",
      "text/plain": [
       "<matplotlib.figure.Figure at 0x7f8271f55e10>"
      ]
     },
     "metadata": {},
     "output_type": "display_data"
    }
   ],
   "source": [
    "viz.attention_map(X_true[1199], np.expand_dims(X_test[1199], axis=0), y_idx2word)"
   ]
  },
  {
   "cell_type": "markdown",
   "metadata": {},
   "source": [
    "### Input: mexican stocks closed higher wednesday, in line with u.s. equity gains.\n",
    "### Output: up stocks stocks in mexico mexico chile; up in argentina chile\n",
    "\n",
    "This is a markets-related prediction that is pretty terrible—both semantically and syntactically incoherent. THe prediction is largely generative: \"stocks\" and \"mexico\" are taken from the input sequence, but the model generates \"argentina\" and \"chile\" into the output, while losing \"u.s.\". As with other market-related predictions that performed higher, the most attention was given to the second half of the input sequence, and that attention was fairly evenly distributed across output predictions (a solid white column). And yet that is the part of the sequence that is most absent from the output. It is almost as if the model relies on the input sequence in determining what _not_ to include."
   ]
  },
  {
   "cell_type": "code",
   "execution_count": 26,
   "metadata": {},
   "outputs": [
    {
     "data": {
      "text/plain": [
       "<matplotlib.figure.Figure at 0x7eff02488a58>"
      ]
     },
     "metadata": {},
     "output_type": "display_data"
    },
    {
     "data": {
      "image/png": "[encoded data removed]",
      "text/plain": [
       "<matplotlib.figure.Figure at 0x7eff02439630>"
      ]
     },
     "metadata": {},
     "output_type": "display_data"
    }
   ],
   "source": [
    "viz.attention_map(X_true[285], np.expand_dims(X_test[285], axis=0), y_idx2word)"
   ]
  },
  {
   "cell_type": "markdown",
   "metadata": {},
   "source": [
    "### Input: john mccain and sarah palin will be back on the campaign trail together\n",
    "### Output: mccain palin on on senate UNK\n",
    "\n",
    "Like the above prediction, this sentence correctly compresses and includes certain key nouns (\"mccain, \"palin\") while incorrectly abstractively generating the word \"senate\", and producing a syntactically and semantically incorrect prediction that has repeated words. In incorrectly generating the word \"senate,\" the model pays the most attention to the input tokens \"john mccain and sarah palin,\" which would make sense since john mccain was and is a senator, as the model may have seen training inputs in which mccain and senate appear together. Interestly, the model abstractively generated an UNK when no UNK was present in the input sentence. This is different from most other prediction where UNK was correctly in the output because it clearly was the important entity in the sentence. UNK was generated here with most attention given to \"back\" and \"campaign.\""
   ]
  },
  {
   "cell_type": "code",
   "execution_count": 28,
   "metadata": {},
   "outputs": [
    {
     "data": {
      "text/plain": [
       "<matplotlib.figure.Figure at 0x7efefa81b2e8>"
      ]
     },
     "metadata": {},
     "output_type": "display_data"
    },
    {
     "data": {
      "image/png": "[encoded data removed]",
      "text/plain": [
       "<matplotlib.figure.Figure at 0x7efefa819978>"
      ]
     },
     "metadata": {},
     "output_type": "display_data"
    }
   ],
   "source": [
    "viz.attention_map(X_true[327], np.expand_dims(X_test[327], axis=0), y_idx2word)"
   ]
  },
  {
   "cell_type": "markdown",
   "metadata": {},
   "source": [
    "# Proposals for model improvement"
   ]
  },
  {
   "cell_type": "markdown",
   "metadata": {},
   "source": [
    "The most pervasive problem with my model was repeated words. This problem appears in two contexts:"
   ]
  },
  {
   "cell_type": "markdown",
   "metadata": {},
   "source": [
    "1. The prediction is more or less syntactically and semantically correct, but locally repeats specific tokens more than once. For instance: \"german german stock exchange fall.\"\n",
    "2. The prediction consists entirely of a single repeated token or repeated n-gram. For example: \"internet internet internet internet internet internet,\" or \"space shuttle space shuttle space space space shuttle.\" In this case, the model usually takes the subject noun or noun phrase of the sentence as the token that gets repeated."
   ]
  },
  {
   "cell_type": "markdown",
   "metadata": {},
   "source": [
    "### Proposal for and implementation of solution to first context of repeated word problem\n",
    "\n",
    "This problem has a very simple solution, which does not involve modifying the neural net architecture. The outputs would simply be post-processed and any repeated tokens would be compressed to a single instance.\n",
    "\n",
    "I implement this solution below:"
   ]
  },
  {
   "cell_type": "code",
   "execution_count": 35,
   "metadata": {
    "collapsed": true
   },
   "outputs": [
    {
     "name": "stdout",
     "output_type": "stream",
     "text": [
      "ROUGE SCORES WITH remove_duplicates IMPLEMENTED:\n",
      "\n",
      "\tROUGE 1 'r' change: 17.39 --> 17.39\n",
      "\tROUGE 1 'p' change: 35.23 --> 35.23\n",
      "\tROUGE 1 'f' change: 21.56 --> 21.56\n",
      "\n",
      "\tROUGE 2 'r' change: 6.17 --> 6.14\n",
      "\tROUGE 2 'p' change: 6.39 --> 7.77\n",
      "\tROUGE 2 'f' change: 6.06 --> 6.54\n",
      "\n",
      "DIFFERENCE IN ROUGE 1:\n",
      "\n",
      "\tr: +0.0\n",
      "\tp: +0.0\n",
      "\tf: +0.0\n",
      "\n",
      "DIFFERENCE IN ROUGE 2:\n",
      "\n",
      "\tr: -0.02719831755545951\n",
      "\tp: +1.381901154401155\n",
      "\tf: +0.475512850987278\n"
     ]
    }
   ],
   "source": [
    "#given sentence, return sentence with duplicates removed\n",
    "def remove_duplicates(sentence):\n",
    "    sequence = sentence.split()\n",
    "    clean_sequence = [sequence[0]]\n",
    "    last_tok = clean_sequence[0]\n",
    "    for tok in sequence[1:]:\n",
    "        if tok == last_tok:\n",
    "            continue\n",
    "        else:\n",
    "            clean_sequence.append(tok)\n",
    "            last_tok = tok\n",
    "    return \" \".join(clean_sequence)\n",
    "\n",
    "y_pred_clean = [remove_duplicates(sent) for sent in y_pred]\n",
    "\n",
    "scores = Rouge().get_scores(hyps=y_pred, refs=y_true, avg=True)\n",
    "scores_mod = Rouge().get_scores(hyps=y_pred_clean, refs=y_true, avg=True)\n",
    "\n",
    "print(\"ROUGE SCORES WITH remove_duplicates IMPLEMENTED:\\n\")\n",
    "print(\"\\tROUGE 1 'r' change: {:.2f} --> {:.2f}\".format((100 * scores['rouge-1']['r']), (100 * scores_mod['rouge-1']['r'])))\n",
    "print(\"\\tROUGE 1 'p' change: {:.2f} --> {:.2f}\".format((100 * scores['rouge-1']['p']), (100 * scores_mod['rouge-1']['p'])))\n",
    "print(\"\\tROUGE 1 'f' change: {:.2f} --> {:.2f}\".format((100 * scores['rouge-1']['f']), (100 * scores_mod['rouge-1']['f'])))\n",
    "print()\n",
    "print(\"\\tROUGE 2 'r' change: {:.2f} --> {:.2f}\".format((100 * scores['rouge-2']['r']), (100 * scores_mod['rouge-2']['r'])))\n",
    "print(\"\\tROUGE 2 'p' change: {:.2f} --> {:.2f}\".format((100 * scores['rouge-2']['p']), (100 * scores_mod['rouge-2']['p'])))\n",
    "print(\"\\tROUGE 2 'f' change: {:.2f} --> {:.2f}\".format((100 * scores['rouge-2']['f']), (100 * scores_mod['rouge-2']['f'])))\n",
    "\n",
    "\n",
    "print(\"\\nDIFFERENCE IN ROUGE 1:\\n\")\n",
    "print(\"\\tr: {:+}\".format(100 * (scores_mod['rouge-1']['r'] - scores['rouge-1']['r'])))\n",
    "print(\"\\tp: {:+}\".format(100 * (scores_mod['rouge-1']['p'] - scores['rouge-1']['p'])))\n",
    "print(\"\\tf: {:+}\".format(100 * (scores_mod['rouge-1']['f'] - scores['rouge-1']['f'])))\n",
    "print(\"\\nDIFFERENCE IN ROUGE 2:\\n\")\n",
    "print(\"\\tr: {:+}\".format(100 * (scores_mod['rouge-2']['r'] - scores['rouge-2']['r'])))\n",
    "print(\"\\tp: {:+}\".format(100 * (scores_mod['rouge-2']['p'] - scores['rouge-2']['p'])))\n",
    "print(\"\\tf: {:+}\".format(100 * (scores_mod['rouge-2']['f'] - scores['rouge-2']['f'])))"
   ]
  },
  {
   "cell_type": "markdown",
   "metadata": {},
   "source": [
    "### Results\n",
    "\n",
    "ROUGE SCORES WITH remove_duplicates IMPLEMENTED:\n",
    "\n",
    "\tROUGE 1 'r' change: 17.39 --> 17.39\n",
    "\tROUGE 1 'p' change: 35.23 --> 35.23\n",
    "\tROUGE 1 'f' change: 21.56 --> 21.56\n",
    "\n",
    "\tROUGE 2 'r' change: 6.17 --> 6.14\n",
    "\tROUGE 2 'p' change: 6.39 --> 7.77\n",
    "\tROUGE 2 'f' change: 6.06 --> 6.54\n",
    "\n",
    "DIFFERENCE IN ROUGE 1:\n",
    "\n",
    "\tr: +0.0\n",
    "\tp: +0.0\n",
    "\tf: +0.0\n",
    "\n",
    "DIFFERENCE IN ROUGE 2:\n",
    "\n",
    "\tr: -0.02719831755545951\n",
    "\tp: +1.381901154401155\n",
    "\tf: +0.475512850987278"
   ]
  },
  {
   "cell_type": "markdown",
   "metadata": {},
   "source": [
    "### Analysis of solution implementation results\n",
    "Removing repeat tokens had no effect on the ROUGE 1 scores, led to a minimal decrease in ROUGE 2 recall score, and a marked increase in ROUGE 2 precision and f scores. The decrease in recall is explainable by the fact that this processing does not address the problem with sentences composed entirely of repeat unigrams and bigrams. Repeat unigrams reduced to a single unigram will result in lower recall scores, but the precision fraction will have a smaller denominator for all predictions that include true positives, and precision will therefore be higher. The decrease in recall is so insignificant that this is certainly a fix worth implementing."
   ]
  },
  {
   "cell_type": "markdown",
   "metadata": {},
   "source": [
    "# The broader repeated word problem\n",
    "\n",
    "The solution to the first problem compresses \"war war war war war\" to \"war\", and single word predictions are hardly any better than a single word repeated eight times. The first context of the problem (discrete instances of repeated words in otherwise good predictions) is a subset of the  second, and so implementing a solution to the second problem would render the post-processing implemented above unnecessary. Finding a more global solution that would address both  contexts of the word repetition problem is more difficult. The better solutions, I will argue, would require  modifying the actual model architecture. Repeated words are almost never grammatical—the one exception being \"that that,\" as in \"I thought that that was a good prediction,\" though even this is ugly and undesirable syntax—and so we could safely set up the model in such a way that it should never allow repeated tokens in the output. I first describe and implement one sub-optimal but straightforward solution. I then describe two possible better solutions, without attempting to implement them.\n",
    "\n",
    "## Proposed and implemented solution\n",
    "\n",
    "### Modified greedy sequence generation\n",
    "\n",
    "My original implementation of the attention model takes a straightforward greedy approach to generating the output sentence from the sequence of probability vectors returned by predict(attn_model, X_test). I made a minor modification to the greedy approach. I implemented the change in full below, but summarize it here in pseudocode:\n",
    "\n",
    "```\n",
    "for vector in sequence of vectors:\n",
    "    index = argmax(vector)\n",
    "    word = index_to_word[index]\n",
    "    if word is not equal to 'ZERO':\n",
    "        next_vector = the next vector in the sequence\n",
    "        next_vector[index] = 0 #set probability of the next word being the same as the current word to 0\n",
    "        #additional processing occurs (setting not in vocab words to UNK, etc.)\n",
    "```\n",
    "\n",
    "I saw a non-trivial improvement in ROUGE 1 recall and f score, and a fairly non-trivial improvement in all ROUGE 2 scores.\n",
    "\n",
    "ROUGE SCORES WITH prevent_unigram_repetition IMPLEMENTED:\n",
    "\n",
    "\tROUGE 1 'r' change: 17.39 --> 20.18\n",
    "\tROUGE 1 'p' change: 35.23 --> 32.19\n",
    "\tROUGE 1 'f' change: 21.56 --> 23.68\n",
    "\n",
    "\tROUGE 2 'r' change: 6.17 --> 6.75\n",
    "\tROUGE 2 'p' change: 6.39 --> 6.89\n",
    "\tROUGE 2 'f' change: 6.06 --> 6.62\n",
    "\n",
    "DIFFERENCE IN ROUGE 1:\n",
    "\n",
    "\tr: +2.784822027980141\n",
    "\tp: -3.0455272108843467\n",
    "\tf: +2.1146749301863417\n",
    "\n",
    "DIFFERENCE IN ROUGE 2:\n",
    "\n",
    "\tr: +0.5770495377638247\n",
    "\tp: +0.5007616986188415\n",
    "\tf: +0.5554626775684288\n",
    "\n",
    "\n",
    "For reasons I was unable to identify, the outputs still contained some duplicates, but the problem was somewhat reduced.\n",
    "\n",
    "##### without modification to greedy generation: \n",
    "\"war war war war war war war war\"\n",
    "##### with modification:\n",
    "\"war war war ii war UNK war\"\n",
    "\n",
    "Additionally, the modification did not solve the problem of bigram repetition:\n",
    "\n",
    "##### without modification to greedy generation: \n",
    "\"internet internet internet internet internet internet internet internet\"\n",
    "##### with modification: \n",
    "\"internet web internet web internet web internet\"\n",
    "\n",
    "I added an additional check for bigram repetition, using the same approach, except instead of looking one step ahead I looked two steps behind:\n",
    "\n",
    "```\n",
    "where vector is sequence[i]\n",
    "idx = argmax(vector)\n",
    "if idx = argmax(sequence [i - 2]\n",
    "vector[idx] = 0\n",
    "idx = argmax(vector) #get new max\n",
    "```\n",
    "\n",
    "This additional modifcation gave me an even better increase in Rouge-1 r and f scores, about the same decrease in Rouge-1 p score, and a smaller increase in Rouge 2 scores over the original attention model:\n",
    "\n",
    "ROUGE SCORES WITH remove_duplicates IMPLEMENTED:\n",
    "\n",
    "\tROUGE 1 'r' change: 17.39 --> 22.25\n",
    "\tROUGE 1 'p' change: 35.23 --> 29.59\n",
    "\tROUGE 1 'f' change: 21.56 --> 24.64\n",
    "\n",
    "\tROUGE 2 'r' change: 6.17 --> 6.58\n",
    "\tROUGE 2 'p' change: 6.39 --> 6.42\n",
    "\tROUGE 2 'f' change: 6.06 --> 6.36\n",
    "\n",
    "DIFFERENCE IN ROUGE 1:\n",
    "\n",
    "\tr: +4.857180003497668\n",
    "\tp: -5.64335034013605\n",
    "\tf: +3.0728133574005447\n",
    "\n",
    "DIFFERENCE IN ROUGE 2:\n",
    "\n",
    "\tr: +0.4146473111389083\n",
    "\tp: +0.031000824572252617\n",
    "\tf: +0.2942240343320038\n",
    "\n",
    "The additional check for bigrams seems to have been successful, although the resulting predictions are not necessarily much more coherent:\n",
    "\n",
    "##### without modification to greedy generation:\n",
    "\"internet internet internet internet internet internet internet internet\"\n",
    "##### with check for unigram repetition:\n",
    "\"internet web internet web internet web internet\"\n",
    "##### with check for bigram repetition:\n",
    "\"internet web the internet web UNK world\"\n",
    "\n",
    "### Summary of results for greedy search modification solution\n",
    "\n",
    "While modifying the greedy search to prevent generation of unigrams and bigrams fixes the problem of word repetition, it does not result in significantly more semantically meaningful outputs. I therefore propose two further potential solutions to the problem of word repetition that would involve modifications to the actual neural net architecture, and might lead to more promising results.\n",
    "\n",
    "##### analysis continued below code cell ...."
   ]
  },
  {
   "cell_type": "code",
   "execution_count": 41,
   "metadata": {
    "collapsed": true
   },
   "outputs": [
    {
     "name": "stdout",
     "output_type": "stream",
     "text": [
      "ROUGE SCORES WITH remove_duplicates IMPLEMENTED:\n",
      "\n",
      "\tROUGE 1 'r' change: 17.39 --> 22.25\n",
      "\tROUGE 1 'p' change: 35.23 --> 29.59\n",
      "\tROUGE 1 'f' change: 21.56 --> 24.64\n",
      "\n",
      "\tROUGE 2 'r' change: 6.17 --> 6.58\n",
      "\tROUGE 2 'p' change: 6.39 --> 6.42\n",
      "\tROUGE 2 'f' change: 6.06 --> 6.36\n",
      "\n",
      "DIFFERENCE IN ROUGE 1:\n",
      "\n",
      "\tr: +4.857180003497668\n",
      "\tp: -5.64335034013605\n",
      "\tf: +3.0728133574005447\n",
      "\n",
      "DIFFERENCE IN ROUGE 2:\n",
      "\n",
      "\tr: +0.4146473111389083\n",
      "\tp: +0.031000824572252617\n",
      "\tf: +0.2942240343320038\n"
     ]
    }
   ],
   "source": [
    "#y_prob = attn_model.predict(X_test)\n",
    "\n",
    "#process Y data for Rouge scoring by\n",
    "#1. removing all 'ZERO' tokens\n",
    "#2. replacing words not in train vocab with 'UNK'\n",
    "    \n",
    "y_pred_no_rep = []\n",
    "    \n",
    "for sequence in y_prob:\n",
    "    sentence = []\n",
    "    for i in range(len(sequence)):\n",
    "        idx = np.argmax(sequence[i])\n",
    "        word = y_idx2word[idx]\n",
    "        if word != 'ZERO':\n",
    "            #prevent unigram repetition\n",
    "            if i+1 != len(sequence):\n",
    "                sequence[i+1][idx] = 0.0\n",
    "            \n",
    "            #prevent bigram repetition\n",
    "            if i - 2 >= 0:\n",
    "                if np.argmax(sequence[i-2]) == idx:\n",
    "                    sequence[i][idx] = 0.0\n",
    "                    word = y_idx2word[np.argmax(sequence[i])]\n",
    "            \n",
    "            if word in y_idx2word:\n",
    "                sentence.append(word)\n",
    "            else:\n",
    "                sentence.append(y_idx2word[-1]) #set to 'UNK'\n",
    "    y_pred_no_rep.append(' '.join(sentence))\n",
    "\n",
    "#uncomment if y_pred needs to be generated again\n",
    "#y_pred = predict_on_model(attn_model, X_test) \n",
    "\n",
    "scores = Rouge().get_scores(hyps=y_pred, refs=y_true, avg=True)  \n",
    "scores_mod = Rouge().get_scores(hyps=y_pred_no_rep, refs=y_true, avg=True)\n",
    "\n",
    "print(\"ROUGE SCORES WITH remove_duplicates IMPLEMENTED:\\n\")\n",
    "print(\"\\tROUGE 1 'r' change: {:.2f} --> {:.2f}\".format((100 * scores['rouge-1']['r']), (100 * scores_mod['rouge-1']['r'])))\n",
    "print(\"\\tROUGE 1 'p' change: {:.2f} --> {:.2f}\".format((100 * scores['rouge-1']['p']), (100 * scores_mod['rouge-1']['p'])))\n",
    "print(\"\\tROUGE 1 'f' change: {:.2f} --> {:.2f}\".format((100 * scores['rouge-1']['f']), (100 * scores_mod['rouge-1']['f'])))\n",
    "print()\n",
    "print(\"\\tROUGE 2 'r' change: {:.2f} --> {:.2f}\".format((100 * scores['rouge-2']['r']), (100 * scores_mod['rouge-2']['r'])))\n",
    "print(\"\\tROUGE 2 'p' change: {:.2f} --> {:.2f}\".format((100 * scores['rouge-2']['p']), (100 * scores_mod['rouge-2']['p'])))\n",
    "print(\"\\tROUGE 2 'f' change: {:.2f} --> {:.2f}\".format((100 * scores['rouge-2']['f']), (100 * scores_mod['rouge-2']['f'])))\n",
    "\n",
    "\n",
    "print(\"\\nDIFFERENCE IN ROUGE 1:\\n\")\n",
    "print(\"\\tr: {:+}\".format(100 * (scores_mod['rouge-1']['r'] - scores['rouge-1']['r'])))\n",
    "print(\"\\tp: {:+}\".format(100 * (scores_mod['rouge-1']['p'] - scores['rouge-1']['p'])))\n",
    "print(\"\\tf: {:+}\".format(100 * (scores_mod['rouge-1']['f'] - scores['rouge-1']['f'])))\n",
    "print(\"\\nDIFFERENCE IN ROUGE 2:\\n\")\n",
    "print(\"\\tr: {:+}\".format(100 * (scores_mod['rouge-2']['r'] - scores['rouge-2']['r'])))\n",
    "print(\"\\tp: {:+}\".format(100 * (scores_mod['rouge-2']['p'] - scores['rouge-2']['p'])))\n",
    "print(\"\\tf: {:+}\".format(100 * (scores_mod['rouge-2']['f'] - scores['rouge-2']['f'])))"
   ]
  },
  {
   "cell_type": "markdown",
   "metadata": {},
   "source": [
    "\n",
    "## Further proposed solutions\n",
    "\n",
    "### Modified loss function\n",
    "\n",
    "My current attention model uses sparse_categorical_crossentropy as its loss function.\n",
    "\n",
    "<img src=\"crossent.png\" width=200px>\n",
    "\n",
    "One approach to fixing the repeated word problem would be to modify the loss function so that predictions with repeated words had very high penalties. This would be a complicated fix. The loss function has to be differentiable, so the function cannot simply be\n",
    "```\n",
    "if len(sequence) == len(set(sequence)): #no repeating words\n",
    "    calculate loss using categorical crossentropy\n",
    "else:\n",
    "    give high scalar value as penalty\n",
    "```\n",
    "However, the python function that is called for loss could use this if-else structure, and if the output sequence has repeating words, return a different differentiable function that on average gives a higher penalty.\n",
    "\n",
    "```\n",
    "if len(sequence) == len(set(sequence)): #no repeating words\n",
    "    calculate loss using categorical crossentropy\n",
    "else:\n",
    "    calculate loss using least square errors\n",
    "```\n",
    "\n",
    "### Multi-task learning\n",
    "\n",
    "Although I have not pursued the topic in depth, I understand from this\n",
    "[overview of multitask learning](http://ruder.io/multi-task/index.html#introduction)\n",
    "that there has been work into building multiple neural nets learning different tasks and using different loss functions but sharing weights. If the repeating-word problem is not isolated to my architecture and in fact is an open problem with this task generally, then it may be worth attempting to jointly train neural nets with shared weights and shared inputs, one of whose tasks is to learn gold titles, and the other of whose tasks is to learn to generate sequences of unique words. The gold sequences for the second task would simply be any sequence of unique words. Although I am not particularly comfortable with tensorflow it seems doable to dynamically define gold sequences after the output is generated: simply look at the output and if it consists of unique words, set gold sequence = output sequence so that there is 0 loss. If does have repeated words, set gold sequence to something different from the output sequence — the more repeated words, the more different the generated gold sequence, the higher the loss will be.\n",
    "  \n",
    "<img src=\"mtl.png\" width=600px>\n",
    "  \n",
    "Image sourced from blog post on MTL linked above"
   ]
  }
 ],
 "metadata": {
  "anaconda-cloud": {},
  "kernelspec": {
   "display_name": "Python [default]",
   "language": "python",
   "name": "python3"
  },
  "language_info": {
   "codemirror_mode": {
    "name": "ipython",
    "version": 3
   },
   "file_extension": ".py",
   "mimetype": "text/x-python",
   "name": "python",
   "nbconvert_exporter": "python",
   "pygments_lexer": "ipython3",
   "version": "3.5.4"
  }
 },
 "nbformat": 4,
 "nbformat_minor": 2
}
